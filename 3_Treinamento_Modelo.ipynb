{
  "nbformat": 4,
  "nbformat_minor": 0,
  "metadata": {
    "colab": {
      "name": "3_Treinamento_Modelo.ipynb",
      "provenance": [],
      "mount_file_id": "1dnMUaXK4xHDNEGkTLVlQJbYKe6ECGKPt",
      "authorship_tag": "ABX9TyOtX+5WSP1YAaV+FZsCFSCy",
      "include_colab_link": true
    },
    "kernelspec": {
      "name": "python3",
      "display_name": "Python 3"
    },
    "language_info": {
      "name": "python"
    }
  },
  "cells": [
    {
      "cell_type": "markdown",
      "metadata": {
        "id": "view-in-github",
        "colab_type": "text"
      },
      "source": [
        "<a href=\"https://colab.research.google.com/github/VictorHolanda21/MachineLearning-PrevisaoFutebol/blob/main/3_Treinamento_Modelo.ipynb\" target=\"_parent\"><img src=\"https://colab.research.google.com/assets/colab-badge.svg\" alt=\"Open In Colab\"/></a>"
      ]
    },
    {
      "cell_type": "markdown",
      "source": [
        "# 1. Importando bibliotecas"
      ],
      "metadata": {
        "id": "oica8QIez2Ed"
      }
    },
    {
      "cell_type": "code",
      "execution_count": 23,
      "metadata": {
        "colab": {
          "base_uri": "https://localhost:8080/"
        },
        "id": "vJzvnKwszvij",
        "outputId": "c526b786-7fdb-43e3-89f3-8f766a27434d"
      },
      "outputs": [
        {
          "output_type": "stream",
          "name": "stderr",
          "text": [
            "/usr/local/lib/python3.7/dist-packages/ipykernel_launcher.py:11: DeprecationWarning: deprecated\n",
            "  # This is added back by InteractiveShellApp.init_path()\n"
          ]
        }
      ],
      "source": [
        "import pandas as pd\n",
        "import numpy as np\n",
        "\n",
        "from sklearn.tree import DecisionTreeClassifier\n",
        "from sklearn.linear_model import LogisticRegression\n",
        "\n",
        "from sklearn.model_selection import train_test_split\n",
        "from sklearn.preprocessing import MinMaxScaler\n",
        "\n",
        "import warnings\n",
        "warnings.warn(\"deprecated\", DeprecationWarning)\n",
        "warnings.filterwarnings(\"ignore\")"
      ]
    },
    {
      "cell_type": "code",
      "source": [
        "url_loc_files = '/content/drive/MyDrive/Colab Notebooks/Previsao No Futebol/'"
      ],
      "metadata": {
        "id": "vw1TUovI9QuW"
      },
      "execution_count": 24,
      "outputs": []
    },
    {
      "cell_type": "markdown",
      "source": [
        "# 2. Modelagem"
      ],
      "metadata": {
        "id": "n64tNI_06N1e"
      }
    },
    {
      "cell_type": "markdown",
      "source": [
        "## 2.1 Carregando dados"
      ],
      "metadata": {
        "id": "VYBnBHnl-fYE"
      }
    },
    {
      "cell_type": "code",
      "source": [
        "media_classificacao_time = pd.read_csv(url_loc_files + \"media_classificacao_time.csv\")\n",
        "media_classificacao_time.head()"
      ],
      "metadata": {
        "colab": {
          "base_uri": "https://localhost:8080/",
          "height": 206
        },
        "id": "Lx8Lb1Bk6Hbe",
        "outputId": "8d9ccd52-06e5-4fe2-b6e0-a9f9bcb4f945"
      },
      "execution_count": 25,
      "outputs": [
        {
          "output_type": "execute_result",
          "data": {
            "text/plain": [
              "    ano  classificao_time      idade  altura_jogador  peso_jogador\n",
              "0  2003                 1  40.515152        1.831212     74.848485\n",
              "1  2003                 2  43.129032        1.815806     76.709677\n",
              "2  2003                 3  40.000000        1.813590     78.256410\n",
              "3  2003                 4  40.605263        1.828684     75.540541\n",
              "4  2003                 5  41.000000        1.799615     74.000000"
            ],
            "text/html": [
              "\n",
              "  <div id=\"df-59d6b43c-0b13-47bd-9f99-0aa1a7dd5d25\">\n",
              "    <div class=\"colab-df-container\">\n",
              "      <div>\n",
              "<style scoped>\n",
              "    .dataframe tbody tr th:only-of-type {\n",
              "        vertical-align: middle;\n",
              "    }\n",
              "\n",
              "    .dataframe tbody tr th {\n",
              "        vertical-align: top;\n",
              "    }\n",
              "\n",
              "    .dataframe thead th {\n",
              "        text-align: right;\n",
              "    }\n",
              "</style>\n",
              "<table border=\"1\" class=\"dataframe\">\n",
              "  <thead>\n",
              "    <tr style=\"text-align: right;\">\n",
              "      <th></th>\n",
              "      <th>ano</th>\n",
              "      <th>classificao_time</th>\n",
              "      <th>idade</th>\n",
              "      <th>altura_jogador</th>\n",
              "      <th>peso_jogador</th>\n",
              "    </tr>\n",
              "  </thead>\n",
              "  <tbody>\n",
              "    <tr>\n",
              "      <th>0</th>\n",
              "      <td>2003</td>\n",
              "      <td>1</td>\n",
              "      <td>40.515152</td>\n",
              "      <td>1.831212</td>\n",
              "      <td>74.848485</td>\n",
              "    </tr>\n",
              "    <tr>\n",
              "      <th>1</th>\n",
              "      <td>2003</td>\n",
              "      <td>2</td>\n",
              "      <td>43.129032</td>\n",
              "      <td>1.815806</td>\n",
              "      <td>76.709677</td>\n",
              "    </tr>\n",
              "    <tr>\n",
              "      <th>2</th>\n",
              "      <td>2003</td>\n",
              "      <td>3</td>\n",
              "      <td>40.000000</td>\n",
              "      <td>1.813590</td>\n",
              "      <td>78.256410</td>\n",
              "    </tr>\n",
              "    <tr>\n",
              "      <th>3</th>\n",
              "      <td>2003</td>\n",
              "      <td>4</td>\n",
              "      <td>40.605263</td>\n",
              "      <td>1.828684</td>\n",
              "      <td>75.540541</td>\n",
              "    </tr>\n",
              "    <tr>\n",
              "      <th>4</th>\n",
              "      <td>2003</td>\n",
              "      <td>5</td>\n",
              "      <td>41.000000</td>\n",
              "      <td>1.799615</td>\n",
              "      <td>74.000000</td>\n",
              "    </tr>\n",
              "  </tbody>\n",
              "</table>\n",
              "</div>\n",
              "      <button class=\"colab-df-convert\" onclick=\"convertToInteractive('df-59d6b43c-0b13-47bd-9f99-0aa1a7dd5d25')\"\n",
              "              title=\"Convert this dataframe to an interactive table.\"\n",
              "              style=\"display:none;\">\n",
              "        \n",
              "  <svg xmlns=\"http://www.w3.org/2000/svg\" height=\"24px\"viewBox=\"0 0 24 24\"\n",
              "       width=\"24px\">\n",
              "    <path d=\"M0 0h24v24H0V0z\" fill=\"none\"/>\n",
              "    <path d=\"M18.56 5.44l.94 2.06.94-2.06 2.06-.94-2.06-.94-.94-2.06-.94 2.06-2.06.94zm-11 1L8.5 8.5l.94-2.06 2.06-.94-2.06-.94L8.5 2.5l-.94 2.06-2.06.94zm10 10l.94 2.06.94-2.06 2.06-.94-2.06-.94-.94-2.06-.94 2.06-2.06.94z\"/><path d=\"M17.41 7.96l-1.37-1.37c-.4-.4-.92-.59-1.43-.59-.52 0-1.04.2-1.43.59L10.3 9.45l-7.72 7.72c-.78.78-.78 2.05 0 2.83L4 21.41c.39.39.9.59 1.41.59.51 0 1.02-.2 1.41-.59l7.78-7.78 2.81-2.81c.8-.78.8-2.07 0-2.86zM5.41 20L4 18.59l7.72-7.72 1.47 1.35L5.41 20z\"/>\n",
              "  </svg>\n",
              "      </button>\n",
              "      \n",
              "  <style>\n",
              "    .colab-df-container {\n",
              "      display:flex;\n",
              "      flex-wrap:wrap;\n",
              "      gap: 12px;\n",
              "    }\n",
              "\n",
              "    .colab-df-convert {\n",
              "      background-color: #E8F0FE;\n",
              "      border: none;\n",
              "      border-radius: 50%;\n",
              "      cursor: pointer;\n",
              "      display: none;\n",
              "      fill: #1967D2;\n",
              "      height: 32px;\n",
              "      padding: 0 0 0 0;\n",
              "      width: 32px;\n",
              "    }\n",
              "\n",
              "    .colab-df-convert:hover {\n",
              "      background-color: #E2EBFA;\n",
              "      box-shadow: 0px 1px 2px rgba(60, 64, 67, 0.3), 0px 1px 3px 1px rgba(60, 64, 67, 0.15);\n",
              "      fill: #174EA6;\n",
              "    }\n",
              "\n",
              "    [theme=dark] .colab-df-convert {\n",
              "      background-color: #3B4455;\n",
              "      fill: #D2E3FC;\n",
              "    }\n",
              "\n",
              "    [theme=dark] .colab-df-convert:hover {\n",
              "      background-color: #434B5C;\n",
              "      box-shadow: 0px 1px 3px 1px rgba(0, 0, 0, 0.15);\n",
              "      filter: drop-shadow(0px 1px 2px rgba(0, 0, 0, 0.3));\n",
              "      fill: #FFFFFF;\n",
              "    }\n",
              "  </style>\n",
              "\n",
              "      <script>\n",
              "        const buttonEl =\n",
              "          document.querySelector('#df-59d6b43c-0b13-47bd-9f99-0aa1a7dd5d25 button.colab-df-convert');\n",
              "        buttonEl.style.display =\n",
              "          google.colab.kernel.accessAllowed ? 'block' : 'none';\n",
              "\n",
              "        async function convertToInteractive(key) {\n",
              "          const element = document.querySelector('#df-59d6b43c-0b13-47bd-9f99-0aa1a7dd5d25');\n",
              "          const dataTable =\n",
              "            await google.colab.kernel.invokeFunction('convertToInteractive',\n",
              "                                                     [key], {});\n",
              "          if (!dataTable) return;\n",
              "\n",
              "          const docLinkHtml = 'Like what you see? Visit the ' +\n",
              "            '<a target=\"_blank\" href=https://colab.research.google.com/notebooks/data_table.ipynb>data table notebook</a>'\n",
              "            + ' to learn more about interactive tables.';\n",
              "          element.innerHTML = '';\n",
              "          dataTable['output_type'] = 'display_data';\n",
              "          await google.colab.output.renderOutput(dataTable, element);\n",
              "          const docLink = document.createElement('div');\n",
              "          docLink.innerHTML = docLinkHtml;\n",
              "          element.appendChild(docLink);\n",
              "        }\n",
              "      </script>\n",
              "    </div>\n",
              "  </div>\n",
              "  "
            ]
          },
          "metadata": {},
          "execution_count": 25
        }
      ]
    },
    {
      "cell_type": "markdown",
      "source": [
        "## 2.2 Dividindo base de treinamento e teste"
      ],
      "metadata": {
        "id": "nOLdKdSq-l45"
      }
    },
    {
      "cell_type": "markdown",
      "source": [
        "**x** => Váriavel independente/explicativa - usada para chegar no resultado da váriavel **y**: \n",
        "* idade\n",
        "* altura_jogador\n",
        "* peso_jogador\n",
        "\n",
        "**y** => Váriavel dependente/alvo - usada como saída/resultado: \n",
        "* classificao_time"
      ],
      "metadata": {
        "id": "1J4Vx6beETDi"
      }
    },
    {
      "cell_type": "code",
      "source": [
        "x = media_classificacao_time.drop(columns =['ano', 'classificao_time'])\n",
        "y = media_classificacao_time.classificao_time\n",
        "\n",
        "x_treino, x_teste, y_treino, y_teste = train_test_split(x, y, test_size=0.33, random_state=42)\n"
      ],
      "metadata": {
        "id": "OTL5SooX-pNp"
      },
      "execution_count": 26,
      "outputs": []
    },
    {
      "cell_type": "code",
      "source": [
        "print(\"Quantidade de linhas (x): \", len(x))\n",
        "x.head()"
      ],
      "metadata": {
        "colab": {
          "base_uri": "https://localhost:8080/",
          "height": 224
        },
        "id": "ddpEYcYK_BsO",
        "outputId": "0ce32584-3c9e-4c26-9d67-c3e7bf92f4c2"
      },
      "execution_count": 27,
      "outputs": [
        {
          "output_type": "stream",
          "name": "stdout",
          "text": [
            "Quantidade de linhas (x):  380\n"
          ]
        },
        {
          "output_type": "execute_result",
          "data": {
            "text/plain": [
              "       idade  altura_jogador  peso_jogador\n",
              "0  40.515152        1.831212     74.848485\n",
              "1  43.129032        1.815806     76.709677\n",
              "2  40.000000        1.813590     78.256410\n",
              "3  40.605263        1.828684     75.540541\n",
              "4  41.000000        1.799615     74.000000"
            ],
            "text/html": [
              "\n",
              "  <div id=\"df-5c5231e1-2475-4970-a9ad-a98d24639205\">\n",
              "    <div class=\"colab-df-container\">\n",
              "      <div>\n",
              "<style scoped>\n",
              "    .dataframe tbody tr th:only-of-type {\n",
              "        vertical-align: middle;\n",
              "    }\n",
              "\n",
              "    .dataframe tbody tr th {\n",
              "        vertical-align: top;\n",
              "    }\n",
              "\n",
              "    .dataframe thead th {\n",
              "        text-align: right;\n",
              "    }\n",
              "</style>\n",
              "<table border=\"1\" class=\"dataframe\">\n",
              "  <thead>\n",
              "    <tr style=\"text-align: right;\">\n",
              "      <th></th>\n",
              "      <th>idade</th>\n",
              "      <th>altura_jogador</th>\n",
              "      <th>peso_jogador</th>\n",
              "    </tr>\n",
              "  </thead>\n",
              "  <tbody>\n",
              "    <tr>\n",
              "      <th>0</th>\n",
              "      <td>40.515152</td>\n",
              "      <td>1.831212</td>\n",
              "      <td>74.848485</td>\n",
              "    </tr>\n",
              "    <tr>\n",
              "      <th>1</th>\n",
              "      <td>43.129032</td>\n",
              "      <td>1.815806</td>\n",
              "      <td>76.709677</td>\n",
              "    </tr>\n",
              "    <tr>\n",
              "      <th>2</th>\n",
              "      <td>40.000000</td>\n",
              "      <td>1.813590</td>\n",
              "      <td>78.256410</td>\n",
              "    </tr>\n",
              "    <tr>\n",
              "      <th>3</th>\n",
              "      <td>40.605263</td>\n",
              "      <td>1.828684</td>\n",
              "      <td>75.540541</td>\n",
              "    </tr>\n",
              "    <tr>\n",
              "      <th>4</th>\n",
              "      <td>41.000000</td>\n",
              "      <td>1.799615</td>\n",
              "      <td>74.000000</td>\n",
              "    </tr>\n",
              "  </tbody>\n",
              "</table>\n",
              "</div>\n",
              "      <button class=\"colab-df-convert\" onclick=\"convertToInteractive('df-5c5231e1-2475-4970-a9ad-a98d24639205')\"\n",
              "              title=\"Convert this dataframe to an interactive table.\"\n",
              "              style=\"display:none;\">\n",
              "        \n",
              "  <svg xmlns=\"http://www.w3.org/2000/svg\" height=\"24px\"viewBox=\"0 0 24 24\"\n",
              "       width=\"24px\">\n",
              "    <path d=\"M0 0h24v24H0V0z\" fill=\"none\"/>\n",
              "    <path d=\"M18.56 5.44l.94 2.06.94-2.06 2.06-.94-2.06-.94-.94-2.06-.94 2.06-2.06.94zm-11 1L8.5 8.5l.94-2.06 2.06-.94-2.06-.94L8.5 2.5l-.94 2.06-2.06.94zm10 10l.94 2.06.94-2.06 2.06-.94-2.06-.94-.94-2.06-.94 2.06-2.06.94z\"/><path d=\"M17.41 7.96l-1.37-1.37c-.4-.4-.92-.59-1.43-.59-.52 0-1.04.2-1.43.59L10.3 9.45l-7.72 7.72c-.78.78-.78 2.05 0 2.83L4 21.41c.39.39.9.59 1.41.59.51 0 1.02-.2 1.41-.59l7.78-7.78 2.81-2.81c.8-.78.8-2.07 0-2.86zM5.41 20L4 18.59l7.72-7.72 1.47 1.35L5.41 20z\"/>\n",
              "  </svg>\n",
              "      </button>\n",
              "      \n",
              "  <style>\n",
              "    .colab-df-container {\n",
              "      display:flex;\n",
              "      flex-wrap:wrap;\n",
              "      gap: 12px;\n",
              "    }\n",
              "\n",
              "    .colab-df-convert {\n",
              "      background-color: #E8F0FE;\n",
              "      border: none;\n",
              "      border-radius: 50%;\n",
              "      cursor: pointer;\n",
              "      display: none;\n",
              "      fill: #1967D2;\n",
              "      height: 32px;\n",
              "      padding: 0 0 0 0;\n",
              "      width: 32px;\n",
              "    }\n",
              "\n",
              "    .colab-df-convert:hover {\n",
              "      background-color: #E2EBFA;\n",
              "      box-shadow: 0px 1px 2px rgba(60, 64, 67, 0.3), 0px 1px 3px 1px rgba(60, 64, 67, 0.15);\n",
              "      fill: #174EA6;\n",
              "    }\n",
              "\n",
              "    [theme=dark] .colab-df-convert {\n",
              "      background-color: #3B4455;\n",
              "      fill: #D2E3FC;\n",
              "    }\n",
              "\n",
              "    [theme=dark] .colab-df-convert:hover {\n",
              "      background-color: #434B5C;\n",
              "      box-shadow: 0px 1px 3px 1px rgba(0, 0, 0, 0.15);\n",
              "      filter: drop-shadow(0px 1px 2px rgba(0, 0, 0, 0.3));\n",
              "      fill: #FFFFFF;\n",
              "    }\n",
              "  </style>\n",
              "\n",
              "      <script>\n",
              "        const buttonEl =\n",
              "          document.querySelector('#df-5c5231e1-2475-4970-a9ad-a98d24639205 button.colab-df-convert');\n",
              "        buttonEl.style.display =\n",
              "          google.colab.kernel.accessAllowed ? 'block' : 'none';\n",
              "\n",
              "        async function convertToInteractive(key) {\n",
              "          const element = document.querySelector('#df-5c5231e1-2475-4970-a9ad-a98d24639205');\n",
              "          const dataTable =\n",
              "            await google.colab.kernel.invokeFunction('convertToInteractive',\n",
              "                                                     [key], {});\n",
              "          if (!dataTable) return;\n",
              "\n",
              "          const docLinkHtml = 'Like what you see? Visit the ' +\n",
              "            '<a target=\"_blank\" href=https://colab.research.google.com/notebooks/data_table.ipynb>data table notebook</a>'\n",
              "            + ' to learn more about interactive tables.';\n",
              "          element.innerHTML = '';\n",
              "          dataTable['output_type'] = 'display_data';\n",
              "          await google.colab.output.renderOutput(dataTable, element);\n",
              "          const docLink = document.createElement('div');\n",
              "          docLink.innerHTML = docLinkHtml;\n",
              "          element.appendChild(docLink);\n",
              "        }\n",
              "      </script>\n",
              "    </div>\n",
              "  </div>\n",
              "  "
            ]
          },
          "metadata": {},
          "execution_count": 27
        }
      ]
    },
    {
      "cell_type": "code",
      "source": [
        "print(\"Quantidade de linhas (x_treino): \", len(x_treino))\n",
        "x_treino.head()"
      ],
      "metadata": {
        "colab": {
          "base_uri": "https://localhost:8080/",
          "height": 224
        },
        "id": "c3hzn2HfGAwJ",
        "outputId": "bb9e5d34-521c-4158-ea8f-40431a76f7d6"
      },
      "execution_count": 28,
      "outputs": [
        {
          "output_type": "stream",
          "name": "stdout",
          "text": [
            "Quantidade de linhas (x_treino):  254\n"
          ]
        },
        {
          "output_type": "execute_result",
          "data": {
            "text/plain": [
              "         idade  altura_jogador  peso_jogador\n",
              "155  35.277778        1.826667     76.314286\n",
              "79   38.382353        1.818857     78.114286\n",
              "132  33.529412        1.820588     76.588235\n",
              "140  34.687500        1.822979     76.872340\n",
              "291  29.785714        1.805926     76.115385"
            ],
            "text/html": [
              "\n",
              "  <div id=\"df-73b540c9-9251-49aa-a86d-f9bb7b2b0f35\">\n",
              "    <div class=\"colab-df-container\">\n",
              "      <div>\n",
              "<style scoped>\n",
              "    .dataframe tbody tr th:only-of-type {\n",
              "        vertical-align: middle;\n",
              "    }\n",
              "\n",
              "    .dataframe tbody tr th {\n",
              "        vertical-align: top;\n",
              "    }\n",
              "\n",
              "    .dataframe thead th {\n",
              "        text-align: right;\n",
              "    }\n",
              "</style>\n",
              "<table border=\"1\" class=\"dataframe\">\n",
              "  <thead>\n",
              "    <tr style=\"text-align: right;\">\n",
              "      <th></th>\n",
              "      <th>idade</th>\n",
              "      <th>altura_jogador</th>\n",
              "      <th>peso_jogador</th>\n",
              "    </tr>\n",
              "  </thead>\n",
              "  <tbody>\n",
              "    <tr>\n",
              "      <th>155</th>\n",
              "      <td>35.277778</td>\n",
              "      <td>1.826667</td>\n",
              "      <td>76.314286</td>\n",
              "    </tr>\n",
              "    <tr>\n",
              "      <th>79</th>\n",
              "      <td>38.382353</td>\n",
              "      <td>1.818857</td>\n",
              "      <td>78.114286</td>\n",
              "    </tr>\n",
              "    <tr>\n",
              "      <th>132</th>\n",
              "      <td>33.529412</td>\n",
              "      <td>1.820588</td>\n",
              "      <td>76.588235</td>\n",
              "    </tr>\n",
              "    <tr>\n",
              "      <th>140</th>\n",
              "      <td>34.687500</td>\n",
              "      <td>1.822979</td>\n",
              "      <td>76.872340</td>\n",
              "    </tr>\n",
              "    <tr>\n",
              "      <th>291</th>\n",
              "      <td>29.785714</td>\n",
              "      <td>1.805926</td>\n",
              "      <td>76.115385</td>\n",
              "    </tr>\n",
              "  </tbody>\n",
              "</table>\n",
              "</div>\n",
              "      <button class=\"colab-df-convert\" onclick=\"convertToInteractive('df-73b540c9-9251-49aa-a86d-f9bb7b2b0f35')\"\n",
              "              title=\"Convert this dataframe to an interactive table.\"\n",
              "              style=\"display:none;\">\n",
              "        \n",
              "  <svg xmlns=\"http://www.w3.org/2000/svg\" height=\"24px\"viewBox=\"0 0 24 24\"\n",
              "       width=\"24px\">\n",
              "    <path d=\"M0 0h24v24H0V0z\" fill=\"none\"/>\n",
              "    <path d=\"M18.56 5.44l.94 2.06.94-2.06 2.06-.94-2.06-.94-.94-2.06-.94 2.06-2.06.94zm-11 1L8.5 8.5l.94-2.06 2.06-.94-2.06-.94L8.5 2.5l-.94 2.06-2.06.94zm10 10l.94 2.06.94-2.06 2.06-.94-2.06-.94-.94-2.06-.94 2.06-2.06.94z\"/><path d=\"M17.41 7.96l-1.37-1.37c-.4-.4-.92-.59-1.43-.59-.52 0-1.04.2-1.43.59L10.3 9.45l-7.72 7.72c-.78.78-.78 2.05 0 2.83L4 21.41c.39.39.9.59 1.41.59.51 0 1.02-.2 1.41-.59l7.78-7.78 2.81-2.81c.8-.78.8-2.07 0-2.86zM5.41 20L4 18.59l7.72-7.72 1.47 1.35L5.41 20z\"/>\n",
              "  </svg>\n",
              "      </button>\n",
              "      \n",
              "  <style>\n",
              "    .colab-df-container {\n",
              "      display:flex;\n",
              "      flex-wrap:wrap;\n",
              "      gap: 12px;\n",
              "    }\n",
              "\n",
              "    .colab-df-convert {\n",
              "      background-color: #E8F0FE;\n",
              "      border: none;\n",
              "      border-radius: 50%;\n",
              "      cursor: pointer;\n",
              "      display: none;\n",
              "      fill: #1967D2;\n",
              "      height: 32px;\n",
              "      padding: 0 0 0 0;\n",
              "      width: 32px;\n",
              "    }\n",
              "\n",
              "    .colab-df-convert:hover {\n",
              "      background-color: #E2EBFA;\n",
              "      box-shadow: 0px 1px 2px rgba(60, 64, 67, 0.3), 0px 1px 3px 1px rgba(60, 64, 67, 0.15);\n",
              "      fill: #174EA6;\n",
              "    }\n",
              "\n",
              "    [theme=dark] .colab-df-convert {\n",
              "      background-color: #3B4455;\n",
              "      fill: #D2E3FC;\n",
              "    }\n",
              "\n",
              "    [theme=dark] .colab-df-convert:hover {\n",
              "      background-color: #434B5C;\n",
              "      box-shadow: 0px 1px 3px 1px rgba(0, 0, 0, 0.15);\n",
              "      filter: drop-shadow(0px 1px 2px rgba(0, 0, 0, 0.3));\n",
              "      fill: #FFFFFF;\n",
              "    }\n",
              "  </style>\n",
              "\n",
              "      <script>\n",
              "        const buttonEl =\n",
              "          document.querySelector('#df-73b540c9-9251-49aa-a86d-f9bb7b2b0f35 button.colab-df-convert');\n",
              "        buttonEl.style.display =\n",
              "          google.colab.kernel.accessAllowed ? 'block' : 'none';\n",
              "\n",
              "        async function convertToInteractive(key) {\n",
              "          const element = document.querySelector('#df-73b540c9-9251-49aa-a86d-f9bb7b2b0f35');\n",
              "          const dataTable =\n",
              "            await google.colab.kernel.invokeFunction('convertToInteractive',\n",
              "                                                     [key], {});\n",
              "          if (!dataTable) return;\n",
              "\n",
              "          const docLinkHtml = 'Like what you see? Visit the ' +\n",
              "            '<a target=\"_blank\" href=https://colab.research.google.com/notebooks/data_table.ipynb>data table notebook</a>'\n",
              "            + ' to learn more about interactive tables.';\n",
              "          element.innerHTML = '';\n",
              "          dataTable['output_type'] = 'display_data';\n",
              "          await google.colab.output.renderOutput(dataTable, element);\n",
              "          const docLink = document.createElement('div');\n",
              "          docLink.innerHTML = docLinkHtml;\n",
              "          element.appendChild(docLink);\n",
              "        }\n",
              "      </script>\n",
              "    </div>\n",
              "  </div>\n",
              "  "
            ]
          },
          "metadata": {},
          "execution_count": 28
        }
      ]
    },
    {
      "cell_type": "markdown",
      "source": [
        "## 2.3 Normalizando a base"
      ],
      "metadata": {
        "id": "zuF1z0WBD9pV"
      }
    },
    {
      "cell_type": "code",
      "source": [
        "scaler = MinMaxScaler()\n",
        "x_treino_scaler = scaler.fit_transform(x_treino)\n",
        "x_teste_scaler = scaler.transform(x_teste)\n",
        "x_teste_scaler\n"
      ],
      "metadata": {
        "colab": {
          "base_uri": "https://localhost:8080/"
        },
        "id": "bmlz2aKC_Mam",
        "outputId": "24d0aadf-e1a1-495c-ad1c-847bd39bc5d5"
      },
      "execution_count": 29,
      "outputs": [
        {
          "output_type": "execute_result",
          "data": {
            "text/plain": [
              "array([[ 0.36817102,  0.59025927,  0.29791219],\n",
              "       [ 0.23193625,  0.58189161,  0.42245266],\n",
              "       [ 0.28352408,  0.7011449 ,  0.23782687],\n",
              "       [ 0.88507755,  0.67429125,  0.37781785],\n",
              "       [ 0.90087703,  0.38332929,  0.23964764],\n",
              "       [ 0.14446124,  0.70323296,  0.34355275],\n",
              "       [ 0.86058834,  0.62757451,  0.27970452],\n",
              "       [ 0.39192399,  0.41410225, -0.00563571],\n",
              "       [ 0.30665083,  0.8190507 ,  0.52098988],\n",
              "       [ 0.60184888,  0.69138632,  0.48668145],\n",
              "       [ 0.36425877,  0.57226983,  0.34756947],\n",
              "       [ 0.24918349,  0.610189  ,  0.27676779],\n",
              "       [ 0.5517918 ,  0.71252937,  0.43644882],\n",
              "       [ 0.37875189,  0.51079734,  0.23567506],\n",
              "       [ 0.7807304 ,  0.58813908,  0.3916817 ],\n",
              "       [ 0.17015763,  0.64591803,  0.35238954],\n",
              "       [ 0.28695414,  0.66149746,  0.41079975],\n",
              "       [ 0.85324796,  0.56297342,  0.29442898],\n",
              "       [ 0.47717076,  0.72934335,  0.57466879],\n",
              "       [ 0.71733967,  0.61325149,  0.36669672],\n",
              "       [ 0.99076273,  0.70798446,  0.4999499 ],\n",
              "       [ 0.34523712,  0.76351758,  0.49644324],\n",
              "       [ 0.00810877,  0.5054519 ,  0.10701913],\n",
              "       [ 0.85942561,  0.69254209,  0.24715141],\n",
              "       [ 0.81838114,  0.61739763,  0.58195186],\n",
              "       [ 0.49453682,  0.55131573,  0.26907124],\n",
              "       [ 0.95011876,  0.6608513 ,  0.56807935],\n",
              "       [ 0.87785492,  0.33244488,  0.2032323 ],\n",
              "       [ 0.97186187,  0.60043615,  0.3634598 ],\n",
              "       [ 0.90096045,  0.74320751,  0.54553652],\n",
              "       [ 0.21187648,  0.57160165,  0.37438441],\n",
              "       [ 0.24375461,  0.46287276,  0.05907776],\n",
              "       [ 0.83855643,  0.65055457,  0.35617674],\n",
              "       [ 0.54334917,  1.00944996,  0.65712353],\n",
              "       [ 0.50118765,  0.49743375,  0.32461677],\n",
              "       [ 0.63015985,  0.50300191,  0.22993688],\n",
              "       [ 0.58831354,  0.63145142,  0.39288935],\n",
              "       [ 0.65211036,  0.67054357,  0.43871818],\n",
              "       [ 0.6175772 ,  0.72168333,  0.36248873],\n",
              "       [ 0.17992874,  0.60382845,  0.43993202],\n",
              "       [ 0.56018696,  0.71883818,  0.44780244],\n",
              "       [ 0.18183307,  0.60043615,  0.10622182],\n",
              "       [ 0.82001188,  0.57380664,  0.7348963 ],\n",
              "       [ 0.87454114,  0.59365156,  0.33322403],\n",
              "       [ 0.50566417,  0.66488975,  0.43264896],\n",
              "       [ 0.01567696,  0.80680074,  0.40557494],\n",
              "       [ 0.10261283,  0.55543171,  0.14069836],\n",
              "       [ 0.92773616,  0.53598255,  0.31976139],\n",
              "       [ 0.80463183,  0.56425168,  0.4784716 ],\n",
              "       [ 0.26477138,  0.56131169,  0.16355213],\n",
              "       [ 0.79678015,  0.59691822,  0.47890993],\n",
              "       [ 0.28295724,  0.60899063,  0.39322539],\n",
              "       [ 0.11828979,  0.60434243,  0.40208214],\n",
              "       [-0.01694806,  0.60722074,  0.330686  ],\n",
              "       [ 0.26095503,  0.71916646,  0.58195186],\n",
              "       [ 0.86401425,  0.64591803,  0.26500351],\n",
              "       [ 0.71861867,  0.9532348 ,  0.55646112],\n",
              "       [ 0.85780981,  0.61494114,  0.55533099],\n",
              "       [ 0.27322165,  0.67488809,  0.20775961],\n",
              "       [ 0.64916865,  0.65539133,  0.19837692],\n",
              "       [ 0.82605518,  0.61061304,  0.4909135 ],\n",
              "       [ 0.39991363,  0.45199756,  0.05205345],\n",
              "       [ 0.73562945,  0.45547209,  0.30568079],\n",
              "       [ 0.63098613,  0.56804521,  0.4600192 ],\n",
              "       [-0.00205859,  0.79718924,  0.19332732],\n",
              "       [ 0.81591449,  0.50860189,  0.28854824],\n",
              "       [ 0.55618491,  0.64792828,  0.16924464],\n",
              "       [ 0.86392049,  0.67024601,  0.31267516],\n",
              "       [ 0.86565321,  0.40666828,  0.32966637],\n",
              "       [ 0.32494062,  0.56932062,  0.32574391],\n",
              "       [ 0.47624703,  0.6622513 ,  0.44033664],\n",
              "       [ 0.27299533,  0.72280107,  0.6507364 ],\n",
              "       [ 0.62513496,  0.73373338,  0.37010025],\n",
              "       [ 0.48788599,  0.78475083,  0.42876465],\n",
              "       [ 0.61567696,  0.70453114,  0.31830478],\n",
              "       [ 0.74971871,  0.5425886 ,  0.46082293],\n",
              "       [ 0.82749406,  0.47788951,  0.16089946],\n",
              "       [ 0.42270784,  0.86177853,  0.67430117],\n",
              "       [ 0.32975674,  0.58452746,  0.30207394],\n",
              "       [ 0.84619952,  1.0272999 ,  0.71122633],\n",
              "       [ 0.43467933,  0.65980131,  0.34197475],\n",
              "       [ 0.66354618,  0.58609159,  0.64292155],\n",
              "       [ 0.37371338,  0.53158513,  0.30708346],\n",
              "       [ 0.06223278,  0.51647686,  0.17972785],\n",
              "       [ 0.36152019,  0.93763024,  0.82010821],\n",
              "       [ 0.86223278,  0.58861158,  0.31559964],\n",
              "       [ 0.85589865,  0.58711825,  0.47540327],\n",
              "       [ 0.42124977,  0.72255876,  0.60380107],\n",
              "       [ 1.03325416,  0.70022615,  0.70333634],\n",
              "       [ 0.79140574,  0.62478085,  0.40630138],\n",
              "       [ 0.67757926,  0.90426776,  0.43439056],\n",
              "       [ 0.96674584,  0.60293574,  0.51065445],\n",
              "       [ 0.55696881,  0.47017204,  0.21731289],\n",
              "       [ 0.43312055,  0.73875423,  0.3378516 ],\n",
              "       [ 0.18225005,  0.7671109 ,  0.30720438],\n",
              "       [ 0.09126622,  0.58162434,  0.14427412],\n",
              "       [ 0.68543365,  0.55789494,  0.42782638],\n",
              "       [ 0.04809976,  0.70009943,  0.25392245],\n",
              "       [ 0.04689296,  0.63374232,  0.07644069],\n",
              "       [ 0.26365796,  0.68185122,  0.49819657],\n",
              "       [ 0.77980356,  0.67231613,  0.66580557],\n",
              "       [ 0.34988124,  0.78769082,  0.59918846],\n",
              "       [ 0.09927103,  0.79379695,  0.45085663],\n",
              "       [ 0.63542089,  0.55277855,  0.29613583],\n",
              "       [ 0.27530271,  0.50986189,  0.16681695],\n",
              "       [ 0.54552652,  0.62973324,  0.34111403],\n",
              "       [ 0.93349169,  0.56057669,  0.39957169],\n",
              "       [ 0.36363636,  0.54243886,  0.43192065],\n",
              "       [ 0.8489707 ,  0.73820101,  0.36970243],\n",
              "       [ 0.4897207 ,  0.56751833,  0.23964764],\n",
              "       [ 0.18225005,  0.58735159,  0.51046989],\n",
              "       [ 0.20688836,  0.52120184,  0.39825669],\n",
              "       [ 0.33875388,  0.83111219,  0.55281959],\n",
              "       [ 0.54731438,  0.63348367,  0.37450188],\n",
              "       [ 0.12843175,  0.58105161,  0.3683935 ],\n",
              "       [ 0.10889252,  0.63499515,  0.25473399],\n",
              "       [ 0.137001  ,  0.78416283,  0.477367  ],\n",
              "       [ 0.32036817,  0.67082627,  0.6520514 ],\n",
              "       [ 0.44507126,  0.67450125,  0.23388188],\n",
              "       [ 0.57559382,  0.46796705,  0.28753381],\n",
              "       [ 0.58271397,  0.69323183,  0.56386166],\n",
              "       [ 0.32904848,  0.67917851,  0.31036388],\n",
              "       [ 0.67410926,  0.67303126,  0.30883679],\n",
              "       [ 0.48909523,  0.6150333 ,  0.40351668],\n",
              "       [ 0.58754118,  0.75013483,  0.54553652],\n",
              "       [ 1.04988124,  0.61570148,  0.54553652]])"
            ]
          },
          "metadata": {},
          "execution_count": 29
        }
      ]
    },
    {
      "cell_type": "code",
      "source": [
        "pd.DataFrame(x_teste_scaler, columns=x.columns).head()"
      ],
      "metadata": {
        "colab": {
          "base_uri": "https://localhost:8080/",
          "height": 206
        },
        "id": "GsHrf4b4Gj6d",
        "outputId": "708593e2-7ea9-405d-fa9c-5f603da25169"
      },
      "execution_count": 30,
      "outputs": [
        {
          "output_type": "execute_result",
          "data": {
            "text/plain": [
              "      idade  altura_jogador  peso_jogador\n",
              "0  0.368171        0.590259      0.297912\n",
              "1  0.231936        0.581892      0.422453\n",
              "2  0.283524        0.701145      0.237827\n",
              "3  0.885078        0.674291      0.377818\n",
              "4  0.900877        0.383329      0.239648"
            ],
            "text/html": [
              "\n",
              "  <div id=\"df-d62e8206-5e52-4d06-8394-3bf3bced2d9f\">\n",
              "    <div class=\"colab-df-container\">\n",
              "      <div>\n",
              "<style scoped>\n",
              "    .dataframe tbody tr th:only-of-type {\n",
              "        vertical-align: middle;\n",
              "    }\n",
              "\n",
              "    .dataframe tbody tr th {\n",
              "        vertical-align: top;\n",
              "    }\n",
              "\n",
              "    .dataframe thead th {\n",
              "        text-align: right;\n",
              "    }\n",
              "</style>\n",
              "<table border=\"1\" class=\"dataframe\">\n",
              "  <thead>\n",
              "    <tr style=\"text-align: right;\">\n",
              "      <th></th>\n",
              "      <th>idade</th>\n",
              "      <th>altura_jogador</th>\n",
              "      <th>peso_jogador</th>\n",
              "    </tr>\n",
              "  </thead>\n",
              "  <tbody>\n",
              "    <tr>\n",
              "      <th>0</th>\n",
              "      <td>0.368171</td>\n",
              "      <td>0.590259</td>\n",
              "      <td>0.297912</td>\n",
              "    </tr>\n",
              "    <tr>\n",
              "      <th>1</th>\n",
              "      <td>0.231936</td>\n",
              "      <td>0.581892</td>\n",
              "      <td>0.422453</td>\n",
              "    </tr>\n",
              "    <tr>\n",
              "      <th>2</th>\n",
              "      <td>0.283524</td>\n",
              "      <td>0.701145</td>\n",
              "      <td>0.237827</td>\n",
              "    </tr>\n",
              "    <tr>\n",
              "      <th>3</th>\n",
              "      <td>0.885078</td>\n",
              "      <td>0.674291</td>\n",
              "      <td>0.377818</td>\n",
              "    </tr>\n",
              "    <tr>\n",
              "      <th>4</th>\n",
              "      <td>0.900877</td>\n",
              "      <td>0.383329</td>\n",
              "      <td>0.239648</td>\n",
              "    </tr>\n",
              "  </tbody>\n",
              "</table>\n",
              "</div>\n",
              "      <button class=\"colab-df-convert\" onclick=\"convertToInteractive('df-d62e8206-5e52-4d06-8394-3bf3bced2d9f')\"\n",
              "              title=\"Convert this dataframe to an interactive table.\"\n",
              "              style=\"display:none;\">\n",
              "        \n",
              "  <svg xmlns=\"http://www.w3.org/2000/svg\" height=\"24px\"viewBox=\"0 0 24 24\"\n",
              "       width=\"24px\">\n",
              "    <path d=\"M0 0h24v24H0V0z\" fill=\"none\"/>\n",
              "    <path d=\"M18.56 5.44l.94 2.06.94-2.06 2.06-.94-2.06-.94-.94-2.06-.94 2.06-2.06.94zm-11 1L8.5 8.5l.94-2.06 2.06-.94-2.06-.94L8.5 2.5l-.94 2.06-2.06.94zm10 10l.94 2.06.94-2.06 2.06-.94-2.06-.94-.94-2.06-.94 2.06-2.06.94z\"/><path d=\"M17.41 7.96l-1.37-1.37c-.4-.4-.92-.59-1.43-.59-.52 0-1.04.2-1.43.59L10.3 9.45l-7.72 7.72c-.78.78-.78 2.05 0 2.83L4 21.41c.39.39.9.59 1.41.59.51 0 1.02-.2 1.41-.59l7.78-7.78 2.81-2.81c.8-.78.8-2.07 0-2.86zM5.41 20L4 18.59l7.72-7.72 1.47 1.35L5.41 20z\"/>\n",
              "  </svg>\n",
              "      </button>\n",
              "      \n",
              "  <style>\n",
              "    .colab-df-container {\n",
              "      display:flex;\n",
              "      flex-wrap:wrap;\n",
              "      gap: 12px;\n",
              "    }\n",
              "\n",
              "    .colab-df-convert {\n",
              "      background-color: #E8F0FE;\n",
              "      border: none;\n",
              "      border-radius: 50%;\n",
              "      cursor: pointer;\n",
              "      display: none;\n",
              "      fill: #1967D2;\n",
              "      height: 32px;\n",
              "      padding: 0 0 0 0;\n",
              "      width: 32px;\n",
              "    }\n",
              "\n",
              "    .colab-df-convert:hover {\n",
              "      background-color: #E2EBFA;\n",
              "      box-shadow: 0px 1px 2px rgba(60, 64, 67, 0.3), 0px 1px 3px 1px rgba(60, 64, 67, 0.15);\n",
              "      fill: #174EA6;\n",
              "    }\n",
              "\n",
              "    [theme=dark] .colab-df-convert {\n",
              "      background-color: #3B4455;\n",
              "      fill: #D2E3FC;\n",
              "    }\n",
              "\n",
              "    [theme=dark] .colab-df-convert:hover {\n",
              "      background-color: #434B5C;\n",
              "      box-shadow: 0px 1px 3px 1px rgba(0, 0, 0, 0.15);\n",
              "      filter: drop-shadow(0px 1px 2px rgba(0, 0, 0, 0.3));\n",
              "      fill: #FFFFFF;\n",
              "    }\n",
              "  </style>\n",
              "\n",
              "      <script>\n",
              "        const buttonEl =\n",
              "          document.querySelector('#df-d62e8206-5e52-4d06-8394-3bf3bced2d9f button.colab-df-convert');\n",
              "        buttonEl.style.display =\n",
              "          google.colab.kernel.accessAllowed ? 'block' : 'none';\n",
              "\n",
              "        async function convertToInteractive(key) {\n",
              "          const element = document.querySelector('#df-d62e8206-5e52-4d06-8394-3bf3bced2d9f');\n",
              "          const dataTable =\n",
              "            await google.colab.kernel.invokeFunction('convertToInteractive',\n",
              "                                                     [key], {});\n",
              "          if (!dataTable) return;\n",
              "\n",
              "          const docLinkHtml = 'Like what you see? Visit the ' +\n",
              "            '<a target=\"_blank\" href=https://colab.research.google.com/notebooks/data_table.ipynb>data table notebook</a>'\n",
              "            + ' to learn more about interactive tables.';\n",
              "          element.innerHTML = '';\n",
              "          dataTable['output_type'] = 'display_data';\n",
              "          await google.colab.output.renderOutput(dataTable, element);\n",
              "          const docLink = document.createElement('div');\n",
              "          docLink.innerHTML = docLinkHtml;\n",
              "          element.appendChild(docLink);\n",
              "        }\n",
              "      </script>\n",
              "    </div>\n",
              "  </div>\n",
              "  "
            ]
          },
          "metadata": {},
          "execution_count": 30
        }
      ]
    },
    {
      "cell_type": "markdown",
      "source": [
        "## 2.4 Modelo Regressão Logistica"
      ],
      "metadata": {
        "id": "7G5v0dLgHAWj"
      }
    },
    {
      "cell_type": "code",
      "source": [
        "LR = LogisticRegression(random_state=0)\n",
        "LR.fit(x_treino, y_treino)"
      ],
      "metadata": {
        "colab": {
          "base_uri": "https://localhost:8080/"
        },
        "id": "csLEN9ReG2hw",
        "outputId": "493927b1-7b93-42c0-c979-68db2b2256ae"
      },
      "execution_count": 31,
      "outputs": [
        {
          "output_type": "execute_result",
          "data": {
            "text/plain": [
              "LogisticRegression(random_state=0)"
            ]
          },
          "metadata": {},
          "execution_count": 31
        }
      ]
    },
    {
      "cell_type": "markdown",
      "source": [
        "## 2.5 Avaliando Resultado Regressão Logistica"
      ],
      "metadata": {
        "id": "_lolIAuSHVc6"
      }
    },
    {
      "cell_type": "code",
      "source": [
        "## score vai de 0 a 1 (0% - 100%)\n",
        "LR.score(x_teste,y_teste) * 100"
      ],
      "metadata": {
        "colab": {
          "base_uri": "https://localhost:8080/"
        },
        "id": "dcyZULviHZHl",
        "outputId": "8a102bd8-904b-4798-b87a-0233b3247493"
      },
      "execution_count": 33,
      "outputs": [
        {
          "output_type": "execute_result",
          "data": {
            "text/plain": [
              "1.5873015873015872"
            ]
          },
          "metadata": {},
          "execution_count": 33
        }
      ]
    },
    {
      "cell_type": "markdown",
      "source": [
        "Resultado ruim"
      ],
      "metadata": {
        "id": "qUAoN_EuIZ2r"
      }
    },
    {
      "cell_type": "markdown",
      "source": [
        "## 2.6 Treinando modelo com base normalizada"
      ],
      "metadata": {
        "id": "Yql8nfyqHujJ"
      }
    },
    {
      "cell_type": "code",
      "source": [
        "LR_scaler = LogisticRegression(random_state=0)\n",
        "LR_scaler.fit(x_treino_scaler, y_treino)\n",
        "LR_scaler.score(x_teste_scaler, y_teste) *100"
      ],
      "metadata": {
        "colab": {
          "base_uri": "https://localhost:8080/"
        },
        "id": "BoOwuwbxHydT",
        "outputId": "0da8d427-96de-4334-b1c8-555cc9e84410"
      },
      "execution_count": 35,
      "outputs": [
        {
          "output_type": "execute_result",
          "data": {
            "text/plain": [
              "1.5873015873015872"
            ]
          },
          "metadata": {},
          "execution_count": 35
        }
      ]
    },
    {
      "cell_type": "markdown",
      "source": [
        "Resultado ruim"
      ],
      "metadata": {
        "id": "d4As59ESIdQo"
      }
    },
    {
      "cell_type": "markdown",
      "source": [
        "## 2.7 Modelo Árvore de Regressão"
      ],
      "metadata": {
        "id": "veWH6gBCIQY8"
      }
    },
    {
      "cell_type": "code",
      "source": [
        "DT = DecisionTreeClassifier(random_state=0).fit(x_treino, y_treino)"
      ],
      "metadata": {
        "id": "fFQCRY2JIL0F"
      },
      "execution_count": 36,
      "outputs": []
    },
    {
      "cell_type": "code",
      "source": [
        "## 2.8 Avaliando Resultado Árvore de Regressão"
      ],
      "metadata": {
        "id": "VeKlfi3GIjN3"
      },
      "execution_count": 37,
      "outputs": []
    },
    {
      "cell_type": "code",
      "source": [
        "DT.score(x_teste, y_teste) * 100"
      ],
      "metadata": {
        "colab": {
          "base_uri": "https://localhost:8080/"
        },
        "id": "SE8DMb1lInHB",
        "outputId": "55477434-23f0-496b-cdc6-43b66251eb7a"
      },
      "execution_count": 39,
      "outputs": [
        {
          "output_type": "execute_result",
          "data": {
            "text/plain": [
              "3.968253968253968"
            ]
          },
          "metadata": {},
          "execution_count": 39
        }
      ]
    },
    {
      "cell_type": "markdown",
      "source": [
        "Resultado ruim"
      ],
      "metadata": {
        "id": "3OktyxPEJFHh"
      }
    },
    {
      "cell_type": "code",
      "source": [
        "DT_scaler = DecisionTreeClassifier(random_state=0).fit(x_treino_scaler, y_treino)\n",
        "DT_scaler.score(x_teste_scaler, y_teste) * 100"
      ],
      "metadata": {
        "colab": {
          "base_uri": "https://localhost:8080/"
        },
        "id": "dNXc7fE6IrNr",
        "outputId": "612a8208-33ef-426c-9330-4cea72eae9f9"
      },
      "execution_count": 41,
      "outputs": [
        {
          "output_type": "execute_result",
          "data": {
            "text/plain": [
              "3.968253968253968"
            ]
          },
          "metadata": {},
          "execution_count": 41
        }
      ]
    },
    {
      "cell_type": "markdown",
      "source": [
        "Resultado ruim"
      ],
      "metadata": {
        "id": "WllHJ5n-JHPZ"
      }
    },
    {
      "cell_type": "code",
      "source": [
        ""
      ],
      "metadata": {
        "id": "Z_eZIrENI7aA"
      },
      "execution_count": null,
      "outputs": []
    }
  ]
}