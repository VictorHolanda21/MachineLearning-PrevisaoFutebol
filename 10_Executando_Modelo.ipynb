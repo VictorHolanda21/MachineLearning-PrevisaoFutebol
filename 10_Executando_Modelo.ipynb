{
  "nbformat": 4,
  "nbformat_minor": 0,
  "metadata": {
    "colab": {
      "name": "10_Executando_Modelo.ipynb",
      "provenance": [],
      "mount_file_id": "11hoAgMmz3uji_4u5U8xNcNtI-eZLMhjN",
      "authorship_tag": "ABX9TyMf8N+Z4/QafC6Ijbnefcrk",
      "include_colab_link": true
    },
    "kernelspec": {
      "name": "python3",
      "display_name": "Python 3"
    },
    "language_info": {
      "name": "python"
    }
  },
  "cells": [
    {
      "cell_type": "markdown",
      "metadata": {
        "id": "view-in-github",
        "colab_type": "text"
      },
      "source": [
        "<a href=\"https://colab.research.google.com/github/VictorHolanda21/MachineLearning-PrevisaoFutebol/blob/main/10_Executando_Modelo.ipynb\" target=\"_parent\"><img src=\"https://colab.research.google.com/assets/colab-badge.svg\" alt=\"Open In Colab\"/></a>"
      ]
    },
    {
      "cell_type": "markdown",
      "source": [
        "# 1 Importando bibliotecas"
      ],
      "metadata": {
        "id": "5WTq1hxQ5Gt1"
      }
    },
    {
      "cell_type": "code",
      "execution_count": 8,
      "metadata": {
        "colab": {
          "base_uri": "https://localhost:8080/"
        },
        "id": "Ud-L47eq4Ecf",
        "outputId": "59ad126c-4dc3-4498-aaac-e90e5f1e9763"
      },
      "outputs": [
        {
          "output_type": "stream",
          "name": "stderr",
          "text": [
            "/usr/local/lib/python3.7/dist-packages/ipykernel_launcher.py:6: DeprecationWarning: deprecated\n",
            "  \n"
          ]
        }
      ],
      "source": [
        "import pandas as pd\n",
        "import numpy as np\n",
        "import joblib as jb\n",
        "\n",
        "import warnings\n",
        "warnings.warn(\"deprecated\", DeprecationWarning)\n",
        "warnings.filterwarnings(\"ignore\")"
      ]
    },
    {
      "cell_type": "code",
      "source": [
        "url_loc_files = '/content/drive/MyDrive/Colab Notebooks/Previsao No Futebol/'"
      ],
      "metadata": {
        "id": "VYM48oMj4PC3"
      },
      "execution_count": 3,
      "outputs": []
    },
    {
      "cell_type": "markdown",
      "source": [
        "# 2 Carregando modelo"
      ],
      "metadata": {
        "id": "HKxteijI6m21"
      }
    },
    {
      "cell_type": "code",
      "source": [
        "arquivo_modelo = jb.load(url_loc_files + 'classificacao_times_RL.joblib')\n",
        "arquivo_modelo"
      ],
      "metadata": {
        "colab": {
          "base_uri": "https://localhost:8080/"
        },
        "id": "iHiLqUOA4Rqn",
        "outputId": "823a15d1-3158-4ab6-ac88-581c0af6e6eb"
      },
      "execution_count": 4,
      "outputs": [
        {
          "output_type": "execute_result",
          "data": {
            "text/plain": [
              "{'metadata': {'author': 'Victor Holanda',\n",
              "  'date': '05/06/2022',\n",
              "  'description': \"Modelo de Regressão Logistica para classificar qual a posição possível do time com o atual elenco. Foram utilizadas as seguintes colunas: idade ','altura_jogador ','peso_jogador ','media_jogadores ','pct_estrangeiro\",\n",
              "  'metrics': 'acc: 77.778% e f1score: 54.630%',\n",
              "  'source_code_version': '0.1'},\n",
              " 'model': LogisticRegression(random_state=0)}"
            ]
          },
          "metadata": {},
          "execution_count": 4
        }
      ]
    },
    {
      "cell_type": "code",
      "source": [
        "modelo = arquivo_modelo['model']\n",
        "modelo"
      ],
      "metadata": {
        "colab": {
          "base_uri": "https://localhost:8080/"
        },
        "id": "ouS9tISd4u5F",
        "outputId": "093a1a4c-c098-417c-d38f-4bcbbee4d51a"
      },
      "execution_count": 5,
      "outputs": [
        {
          "output_type": "execute_result",
          "data": {
            "text/plain": [
              "LogisticRegression(random_state=0)"
            ]
          },
          "metadata": {},
          "execution_count": 5
        }
      ]
    },
    {
      "cell_type": "markdown",
      "source": [
        "# 3 Executando modelo"
      ],
      "metadata": {
        "id": "tPhB-T0S8gM8"
      }
    },
    {
      "cell_type": "markdown",
      "source": [
        "## 3.1 Criano novos dados"
      ],
      "metadata": {
        "id": "ermUiEr88ktK"
      }
    },
    {
      "cell_type": "code",
      "source": [
        "# Criando novos dados\n",
        "\n",
        "media_idade = 20\n",
        "media_altura = 1.77\n",
        "media_peso_jogador = 70.0\n",
        "media_jogadores = 35\n",
        "pct_estrangeiros = 55\n",
        "\n",
        "novo_dado = np.array([[media_idade,media_altura,media_peso_jogador,media_jogadores,pct_estrangeiros]])\n",
        "novo_dado"
      ],
      "metadata": {
        "colab": {
          "base_uri": "https://localhost:8080/"
        },
        "id": "WsBomLSD5AM5",
        "outputId": "2044c3e7-140a-48cb-d5a0-360318e56c25"
      },
      "execution_count": 6,
      "outputs": [
        {
          "output_type": "execute_result",
          "data": {
            "text/plain": [
              "array([[20.  ,  1.77, 70.  , 35.  , 55.  ]])"
            ]
          },
          "metadata": {},
          "execution_count": 6
        }
      ]
    },
    {
      "cell_type": "markdown",
      "source": [
        "## 3.2 Realizando predição nos novos dados"
      ],
      "metadata": {
        "id": "SqEbpdWm8npb"
      }
    },
    {
      "cell_type": "code",
      "source": [
        "resultado = modelo.predict(novo_dado)"
      ],
      "metadata": {
        "id": "EmPt1SX07Rzw"
      },
      "execution_count": 10,
      "outputs": []
    },
    {
      "cell_type": "code",
      "source": [
        "print(f\"Com o elenco atual, o possível grupo de posição final do campeonato é: {resultado[0]}\")"
      ],
      "metadata": {
        "colab": {
          "base_uri": "https://localhost:8080/"
        },
        "id": "H4qhC3dz7XNQ",
        "outputId": "1d27a232-d2fd-4882-8c60-22443c390d7c"
      },
      "execution_count": 11,
      "outputs": [
        {
          "output_type": "stream",
          "name": "stdout",
          "text": [
            "Com o elenco atual, o possível grupo de posição final do campeonato é: 0\n"
          ]
        }
      ]
    },
    {
      "cell_type": "markdown",
      "source": [
        "Grupos:\n",
        "* 0: Posição 1 a 5;\n",
        "* 1: Posição 6 a 17;\n",
        "* 2: Posição 18 a 20"
      ],
      "metadata": {
        "id": "dRfExe8V9JKz"
      }
    },
    {
      "cell_type": "markdown",
      "source": [
        "## 3.3 Criando Função"
      ],
      "metadata": {
        "id": "bMDm1vCs9dcz"
      }
    },
    {
      "cell_type": "code",
      "source": [
        "def predicao_posicao_campeonato():\n",
        "  \n",
        "  media_idade = input(\"Digite a média de idade: \")\n",
        "  media_altura = input(\"Digite a média de altura: \")\n",
        "  media_peso_jogador = input(\"Digite a média de peso dos jogadores: \")\n",
        "  media_jogadores = input(\"Digite a média de jogadores na equipe: \")\n",
        "  pct_estrangeiros = input(\"Digite a média de estrangeiros na equipe:\")\n",
        "\n",
        "  novo_dado = np.array([[media_idade,media_altura,media_peso_jogador,media_jogadores,pct_estrangeiros]])\n",
        "  novo_dado\n",
        "  \n",
        "  resultado = modelo.predict(novo_dado)\n",
        "  print(f\"\\nCom o elenco atual, o possível grupo de posição final do campeonato é: {resultado[0]}\")\n",
        "\n",
        "  print(\"\\nGrupos:\")\n",
        "  print(\"* 0: Posição 1 a 5;\")\n",
        "  print(\"* 1: Posição 6 a 17;\")\n",
        "  print(\"* 2: Posição 18 a 20\")"
      ],
      "metadata": {
        "id": "IRjQuAiV9BI1"
      },
      "execution_count": 18,
      "outputs": []
    },
    {
      "cell_type": "code",
      "source": [
        "predicao_posicao_campeonato()"
      ],
      "metadata": {
        "colab": {
          "base_uri": "https://localhost:8080/"
        },
        "id": "BO7SnKto-RFC",
        "outputId": "d1a06eb8-e994-435e-b09b-91515a860885"
      },
      "execution_count": 19,
      "outputs": [
        {
          "output_type": "stream",
          "name": "stdout",
          "text": [
            "Digite a média de idade: 55\n",
            "Digite a média de altura: 1.77\n",
            "Digite a média de peso dos jogadores: 75\n",
            "Digite a média de jogadores na equipe: 30\n",
            "Digite a média de estrangeiros na equipe:45\n",
            "\n",
            "Com o elenco atual, o possível grupo de posição final do campeonato é: 2\n",
            "\n",
            "Grupos:\n",
            "* 0: Posição 1 a 5;\n",
            "* 1: Posição 6 a 17;\n",
            "* 2: Posição 18 a 20\n"
          ]
        }
      ]
    },
    {
      "cell_type": "code",
      "source": [
        "predicao_posicao_campeonato()"
      ],
      "metadata": {
        "colab": {
          "base_uri": "https://localhost:8080/"
        },
        "id": "hINbOeHn-TTj",
        "outputId": "eec2e0c5-2bff-4b16-90be-aa674f41aaf6"
      },
      "execution_count": 20,
      "outputs": [
        {
          "output_type": "stream",
          "name": "stdout",
          "text": [
            "Digite a média de idade: 55\n",
            "Digite a média de altura: 1.77\n",
            "Digite a média de peso dos jogadores: 75\n",
            "Digite a média de jogadores na equipe: 30\n",
            "Digite a média de estrangeiros na equipe:65\n",
            "\n",
            "Com o elenco atual, o possível grupo de posição final do campeonato é: 0\n",
            "\n",
            "Grupos:\n",
            "* 0: Posição 1 a 5;\n",
            "* 1: Posição 6 a 17;\n",
            "* 2: Posição 18 a 20\n"
          ]
        }
      ]
    }
  ]
}