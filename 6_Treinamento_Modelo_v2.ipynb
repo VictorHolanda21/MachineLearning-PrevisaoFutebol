{
  "nbformat": 4,
  "nbformat_minor": 0,
  "metadata": {
    "colab": {
      "name": "6_Treinamento_Modelo_v2.ipynb",
      "provenance": [],
      "mount_file_id": "1FLBRHDbTcf4QR3cJlU9mY1QUO5Bgfrwx",
      "authorship_tag": "ABX9TyMk/pR+vA2qAMNyd3ZXbpRE",
      "include_colab_link": true
    },
    "kernelspec": {
      "name": "python3",
      "display_name": "Python 3"
    },
    "language_info": {
      "name": "python"
    }
  },
  "cells": [
    {
      "cell_type": "markdown",
      "metadata": {
        "id": "view-in-github",
        "colab_type": "text"
      },
      "source": [
        "<a href=\"https://colab.research.google.com/github/VictorHolanda21/MachineLearning-PrevisaoFutebol/blob/main/6_Treinamento_Modelo_v2.ipynb\" target=\"_parent\"><img src=\"https://colab.research.google.com/assets/colab-badge.svg\" alt=\"Open In Colab\"/></a>"
      ]
    },
    {
      "cell_type": "markdown",
      "source": [
        "# 1. Importando Bibliotecas"
      ],
      "metadata": {
        "id": "yQnWmsYBbAsG"
      }
    },
    {
      "cell_type": "code",
      "execution_count": 4,
      "metadata": {
        "id": "ldyOAhhFam9M"
      },
      "outputs": [],
      "source": [
        "import pandas as pd\n",
        "import numpy as np\n",
        "import matplotlib.pyplot as plt\n",
        "import seaborn as sns\n",
        "\n",
        "from sklearn.tree import DecisionTreeClassifier\n",
        "from sklearn.linear_model import LogisticRegression\n",
        "\n",
        "from sklearn.model_selection import train_test_split\n",
        "from sklearn.preprocessing import MinMaxScaler\n",
        "\n",
        "import warnings\n",
        "warnings.warn(\"deprecated\", DeprecationWarning)\n",
        "warnings.filterwarnings(\"ignore\")"
      ]
    },
    {
      "cell_type": "code",
      "source": [
        "url_loc_files = '/content/drive/MyDrive/Colab Notebooks/Previsao No Futebol/'\n",
        "\n",
        "media_classificacao_time = pd.read_csv(url_loc_files + 'media_classificacao_time_2.csv')\n",
        "\n",
        "media_classificacao_time.head()"
      ],
      "metadata": {
        "colab": {
          "base_uri": "https://localhost:8080/",
          "height": 206
        },
        "id": "OTJotPR1bCp4",
        "outputId": "208b9bc7-981b-4ca9-a508-d08578a24dbd"
      },
      "execution_count": 5,
      "outputs": [
        {
          "output_type": "execute_result",
          "data": {
            "text/plain": [
              "    ano  classificacao_time_2      idade  altura_jogador  peso_jogador  \\\n",
              "0  2003                     0  40.976190        1.818743     76.018072   \n",
              "1  2003                     2  42.301370        1.812329     76.712329   \n",
              "2  2004                     2  41.602410        1.820952     76.904762   \n",
              "3  2005                     0  39.031250        1.827250     76.925000   \n",
              "4  2005                     2  39.295775        1.824366     77.070423   \n",
              "\n",
              "   qtd_jogadores  pct_estrangeiro  \n",
              "0            168        63.095238  \n",
              "1             73        54.810496  \n",
              "2             84        47.945205  \n",
              "3            160        65.662651  \n",
              "4             71        56.176471  "
            ],
            "text/html": [
              "\n",
              "  <div id=\"df-c8ef5a64-dcb7-45a0-b802-94cec8cf1bed\">\n",
              "    <div class=\"colab-df-container\">\n",
              "      <div>\n",
              "<style scoped>\n",
              "    .dataframe tbody tr th:only-of-type {\n",
              "        vertical-align: middle;\n",
              "    }\n",
              "\n",
              "    .dataframe tbody tr th {\n",
              "        vertical-align: top;\n",
              "    }\n",
              "\n",
              "    .dataframe thead th {\n",
              "        text-align: right;\n",
              "    }\n",
              "</style>\n",
              "<table border=\"1\" class=\"dataframe\">\n",
              "  <thead>\n",
              "    <tr style=\"text-align: right;\">\n",
              "      <th></th>\n",
              "      <th>ano</th>\n",
              "      <th>classificacao_time_2</th>\n",
              "      <th>idade</th>\n",
              "      <th>altura_jogador</th>\n",
              "      <th>peso_jogador</th>\n",
              "      <th>qtd_jogadores</th>\n",
              "      <th>pct_estrangeiro</th>\n",
              "    </tr>\n",
              "  </thead>\n",
              "  <tbody>\n",
              "    <tr>\n",
              "      <th>0</th>\n",
              "      <td>2003</td>\n",
              "      <td>0</td>\n",
              "      <td>40.976190</td>\n",
              "      <td>1.818743</td>\n",
              "      <td>76.018072</td>\n",
              "      <td>168</td>\n",
              "      <td>63.095238</td>\n",
              "    </tr>\n",
              "    <tr>\n",
              "      <th>1</th>\n",
              "      <td>2003</td>\n",
              "      <td>2</td>\n",
              "      <td>42.301370</td>\n",
              "      <td>1.812329</td>\n",
              "      <td>76.712329</td>\n",
              "      <td>73</td>\n",
              "      <td>54.810496</td>\n",
              "    </tr>\n",
              "    <tr>\n",
              "      <th>2</th>\n",
              "      <td>2004</td>\n",
              "      <td>2</td>\n",
              "      <td>41.602410</td>\n",
              "      <td>1.820952</td>\n",
              "      <td>76.904762</td>\n",
              "      <td>84</td>\n",
              "      <td>47.945205</td>\n",
              "    </tr>\n",
              "    <tr>\n",
              "      <th>3</th>\n",
              "      <td>2005</td>\n",
              "      <td>0</td>\n",
              "      <td>39.031250</td>\n",
              "      <td>1.827250</td>\n",
              "      <td>76.925000</td>\n",
              "      <td>160</td>\n",
              "      <td>65.662651</td>\n",
              "    </tr>\n",
              "    <tr>\n",
              "      <th>4</th>\n",
              "      <td>2005</td>\n",
              "      <td>2</td>\n",
              "      <td>39.295775</td>\n",
              "      <td>1.824366</td>\n",
              "      <td>77.070423</td>\n",
              "      <td>71</td>\n",
              "      <td>56.176471</td>\n",
              "    </tr>\n",
              "  </tbody>\n",
              "</table>\n",
              "</div>\n",
              "      <button class=\"colab-df-convert\" onclick=\"convertToInteractive('df-c8ef5a64-dcb7-45a0-b802-94cec8cf1bed')\"\n",
              "              title=\"Convert this dataframe to an interactive table.\"\n",
              "              style=\"display:none;\">\n",
              "        \n",
              "  <svg xmlns=\"http://www.w3.org/2000/svg\" height=\"24px\"viewBox=\"0 0 24 24\"\n",
              "       width=\"24px\">\n",
              "    <path d=\"M0 0h24v24H0V0z\" fill=\"none\"/>\n",
              "    <path d=\"M18.56 5.44l.94 2.06.94-2.06 2.06-.94-2.06-.94-.94-2.06-.94 2.06-2.06.94zm-11 1L8.5 8.5l.94-2.06 2.06-.94-2.06-.94L8.5 2.5l-.94 2.06-2.06.94zm10 10l.94 2.06.94-2.06 2.06-.94-2.06-.94-.94-2.06-.94 2.06-2.06.94z\"/><path d=\"M17.41 7.96l-1.37-1.37c-.4-.4-.92-.59-1.43-.59-.52 0-1.04.2-1.43.59L10.3 9.45l-7.72 7.72c-.78.78-.78 2.05 0 2.83L4 21.41c.39.39.9.59 1.41.59.51 0 1.02-.2 1.41-.59l7.78-7.78 2.81-2.81c.8-.78.8-2.07 0-2.86zM5.41 20L4 18.59l7.72-7.72 1.47 1.35L5.41 20z\"/>\n",
              "  </svg>\n",
              "      </button>\n",
              "      \n",
              "  <style>\n",
              "    .colab-df-container {\n",
              "      display:flex;\n",
              "      flex-wrap:wrap;\n",
              "      gap: 12px;\n",
              "    }\n",
              "\n",
              "    .colab-df-convert {\n",
              "      background-color: #E8F0FE;\n",
              "      border: none;\n",
              "      border-radius: 50%;\n",
              "      cursor: pointer;\n",
              "      display: none;\n",
              "      fill: #1967D2;\n",
              "      height: 32px;\n",
              "      padding: 0 0 0 0;\n",
              "      width: 32px;\n",
              "    }\n",
              "\n",
              "    .colab-df-convert:hover {\n",
              "      background-color: #E2EBFA;\n",
              "      box-shadow: 0px 1px 2px rgba(60, 64, 67, 0.3), 0px 1px 3px 1px rgba(60, 64, 67, 0.15);\n",
              "      fill: #174EA6;\n",
              "    }\n",
              "\n",
              "    [theme=dark] .colab-df-convert {\n",
              "      background-color: #3B4455;\n",
              "      fill: #D2E3FC;\n",
              "    }\n",
              "\n",
              "    [theme=dark] .colab-df-convert:hover {\n",
              "      background-color: #434B5C;\n",
              "      box-shadow: 0px 1px 3px 1px rgba(0, 0, 0, 0.15);\n",
              "      filter: drop-shadow(0px 1px 2px rgba(0, 0, 0, 0.3));\n",
              "      fill: #FFFFFF;\n",
              "    }\n",
              "  </style>\n",
              "\n",
              "      <script>\n",
              "        const buttonEl =\n",
              "          document.querySelector('#df-c8ef5a64-dcb7-45a0-b802-94cec8cf1bed button.colab-df-convert');\n",
              "        buttonEl.style.display =\n",
              "          google.colab.kernel.accessAllowed ? 'block' : 'none';\n",
              "\n",
              "        async function convertToInteractive(key) {\n",
              "          const element = document.querySelector('#df-c8ef5a64-dcb7-45a0-b802-94cec8cf1bed');\n",
              "          const dataTable =\n",
              "            await google.colab.kernel.invokeFunction('convertToInteractive',\n",
              "                                                     [key], {});\n",
              "          if (!dataTable) return;\n",
              "\n",
              "          const docLinkHtml = 'Like what you see? Visit the ' +\n",
              "            '<a target=\"_blank\" href=https://colab.research.google.com/notebooks/data_table.ipynb>data table notebook</a>'\n",
              "            + ' to learn more about interactive tables.';\n",
              "          element.innerHTML = '';\n",
              "          dataTable['output_type'] = 'display_data';\n",
              "          await google.colab.output.renderOutput(dataTable, element);\n",
              "          const docLink = document.createElement('div');\n",
              "          docLink.innerHTML = docLinkHtml;\n",
              "          element.appendChild(docLink);\n",
              "        }\n",
              "      </script>\n",
              "    </div>\n",
              "  </div>\n",
              "  "
            ]
          },
          "metadata": {},
          "execution_count": 5
        }
      ]
    },
    {
      "cell_type": "markdown",
      "source": [
        "# 2. Modelagem"
      ],
      "metadata": {
        "id": "gW9eSlvLb26s"
      }
    },
    {
      "cell_type": "markdown",
      "source": [
        "## 2.1 Dividindo base de treinamento e teste"
      ],
      "metadata": {
        "id": "XIIrkLvcb5bc"
      }
    },
    {
      "cell_type": "code",
      "source": [
        "x = media_classificacao_time.drop(columns=['ano', 'classificacao_time_2'])\n",
        "y = media_classificacao_time.classificacao_time_2\n",
        "\n",
        "x_treino, x_teste, y_treino, y_teste = train_test_split(x,y, test_size=0.3,random_state=42)"
      ],
      "metadata": {
        "id": "3StxE_Q4b2c6"
      },
      "execution_count": 6,
      "outputs": []
    },
    {
      "cell_type": "code",
      "source": [
        "print(\"Qtde linhas (x): \", len(x_treino))\n",
        "x_treino.head()"
      ],
      "metadata": {
        "colab": {
          "base_uri": "https://localhost:8080/",
          "height": 224
        },
        "id": "8NFRYlXGbNZz",
        "outputId": "ecd27f90-8cd9-4101-cdc8-b1c7ac4ef49c"
      },
      "execution_count": 7,
      "outputs": [
        {
          "output_type": "stream",
          "name": "stdout",
          "text": [
            "Qtde linhas (x):  20\n"
          ]
        },
        {
          "output_type": "execute_result",
          "data": {
            "text/plain": [
              "        idade  altura_jogador  peso_jogador  qtd_jogadores  pct_estrangeiro\n",
              "13  34.510870        1.832717     77.456522             92        60.638298\n",
              "15  32.707602        1.827778     76.198830            171        65.402844\n",
              "11  35.877049        1.822479     75.851240            127        45.161290\n",
              "17  31.957983        1.824774     76.178470            357        54.347826\n",
              "1   42.301370        1.812329     76.712329             73        54.810496"
            ],
            "text/html": [
              "\n",
              "  <div id=\"df-11fe734f-1bb9-47b4-a31e-bac799fd5355\">\n",
              "    <div class=\"colab-df-container\">\n",
              "      <div>\n",
              "<style scoped>\n",
              "    .dataframe tbody tr th:only-of-type {\n",
              "        vertical-align: middle;\n",
              "    }\n",
              "\n",
              "    .dataframe tbody tr th {\n",
              "        vertical-align: top;\n",
              "    }\n",
              "\n",
              "    .dataframe thead th {\n",
              "        text-align: right;\n",
              "    }\n",
              "</style>\n",
              "<table border=\"1\" class=\"dataframe\">\n",
              "  <thead>\n",
              "    <tr style=\"text-align: right;\">\n",
              "      <th></th>\n",
              "      <th>idade</th>\n",
              "      <th>altura_jogador</th>\n",
              "      <th>peso_jogador</th>\n",
              "      <th>qtd_jogadores</th>\n",
              "      <th>pct_estrangeiro</th>\n",
              "    </tr>\n",
              "  </thead>\n",
              "  <tbody>\n",
              "    <tr>\n",
              "      <th>13</th>\n",
              "      <td>34.510870</td>\n",
              "      <td>1.832717</td>\n",
              "      <td>77.456522</td>\n",
              "      <td>92</td>\n",
              "      <td>60.638298</td>\n",
              "    </tr>\n",
              "    <tr>\n",
              "      <th>15</th>\n",
              "      <td>32.707602</td>\n",
              "      <td>1.827778</td>\n",
              "      <td>76.198830</td>\n",
              "      <td>171</td>\n",
              "      <td>65.402844</td>\n",
              "    </tr>\n",
              "    <tr>\n",
              "      <th>11</th>\n",
              "      <td>35.877049</td>\n",
              "      <td>1.822479</td>\n",
              "      <td>75.851240</td>\n",
              "      <td>127</td>\n",
              "      <td>45.161290</td>\n",
              "    </tr>\n",
              "    <tr>\n",
              "      <th>17</th>\n",
              "      <td>31.957983</td>\n",
              "      <td>1.824774</td>\n",
              "      <td>76.178470</td>\n",
              "      <td>357</td>\n",
              "      <td>54.347826</td>\n",
              "    </tr>\n",
              "    <tr>\n",
              "      <th>1</th>\n",
              "      <td>42.301370</td>\n",
              "      <td>1.812329</td>\n",
              "      <td>76.712329</td>\n",
              "      <td>73</td>\n",
              "      <td>54.810496</td>\n",
              "    </tr>\n",
              "  </tbody>\n",
              "</table>\n",
              "</div>\n",
              "      <button class=\"colab-df-convert\" onclick=\"convertToInteractive('df-11fe734f-1bb9-47b4-a31e-bac799fd5355')\"\n",
              "              title=\"Convert this dataframe to an interactive table.\"\n",
              "              style=\"display:none;\">\n",
              "        \n",
              "  <svg xmlns=\"http://www.w3.org/2000/svg\" height=\"24px\"viewBox=\"0 0 24 24\"\n",
              "       width=\"24px\">\n",
              "    <path d=\"M0 0h24v24H0V0z\" fill=\"none\"/>\n",
              "    <path d=\"M18.56 5.44l.94 2.06.94-2.06 2.06-.94-2.06-.94-.94-2.06-.94 2.06-2.06.94zm-11 1L8.5 8.5l.94-2.06 2.06-.94-2.06-.94L8.5 2.5l-.94 2.06-2.06.94zm10 10l.94 2.06.94-2.06 2.06-.94-2.06-.94-.94-2.06-.94 2.06-2.06.94z\"/><path d=\"M17.41 7.96l-1.37-1.37c-.4-.4-.92-.59-1.43-.59-.52 0-1.04.2-1.43.59L10.3 9.45l-7.72 7.72c-.78.78-.78 2.05 0 2.83L4 21.41c.39.39.9.59 1.41.59.51 0 1.02-.2 1.41-.59l7.78-7.78 2.81-2.81c.8-.78.8-2.07 0-2.86zM5.41 20L4 18.59l7.72-7.72 1.47 1.35L5.41 20z\"/>\n",
              "  </svg>\n",
              "      </button>\n",
              "      \n",
              "  <style>\n",
              "    .colab-df-container {\n",
              "      display:flex;\n",
              "      flex-wrap:wrap;\n",
              "      gap: 12px;\n",
              "    }\n",
              "\n",
              "    .colab-df-convert {\n",
              "      background-color: #E8F0FE;\n",
              "      border: none;\n",
              "      border-radius: 50%;\n",
              "      cursor: pointer;\n",
              "      display: none;\n",
              "      fill: #1967D2;\n",
              "      height: 32px;\n",
              "      padding: 0 0 0 0;\n",
              "      width: 32px;\n",
              "    }\n",
              "\n",
              "    .colab-df-convert:hover {\n",
              "      background-color: #E2EBFA;\n",
              "      box-shadow: 0px 1px 2px rgba(60, 64, 67, 0.3), 0px 1px 3px 1px rgba(60, 64, 67, 0.15);\n",
              "      fill: #174EA6;\n",
              "    }\n",
              "\n",
              "    [theme=dark] .colab-df-convert {\n",
              "      background-color: #3B4455;\n",
              "      fill: #D2E3FC;\n",
              "    }\n",
              "\n",
              "    [theme=dark] .colab-df-convert:hover {\n",
              "      background-color: #434B5C;\n",
              "      box-shadow: 0px 1px 3px 1px rgba(0, 0, 0, 0.15);\n",
              "      filter: drop-shadow(0px 1px 2px rgba(0, 0, 0, 0.3));\n",
              "      fill: #FFFFFF;\n",
              "    }\n",
              "  </style>\n",
              "\n",
              "      <script>\n",
              "        const buttonEl =\n",
              "          document.querySelector('#df-11fe734f-1bb9-47b4-a31e-bac799fd5355 button.colab-df-convert');\n",
              "        buttonEl.style.display =\n",
              "          google.colab.kernel.accessAllowed ? 'block' : 'none';\n",
              "\n",
              "        async function convertToInteractive(key) {\n",
              "          const element = document.querySelector('#df-11fe734f-1bb9-47b4-a31e-bac799fd5355');\n",
              "          const dataTable =\n",
              "            await google.colab.kernel.invokeFunction('convertToInteractive',\n",
              "                                                     [key], {});\n",
              "          if (!dataTable) return;\n",
              "\n",
              "          const docLinkHtml = 'Like what you see? Visit the ' +\n",
              "            '<a target=\"_blank\" href=https://colab.research.google.com/notebooks/data_table.ipynb>data table notebook</a>'\n",
              "            + ' to learn more about interactive tables.';\n",
              "          element.innerHTML = '';\n",
              "          dataTable['output_type'] = 'display_data';\n",
              "          await google.colab.output.renderOutput(dataTable, element);\n",
              "          const docLink = document.createElement('div');\n",
              "          docLink.innerHTML = docLinkHtml;\n",
              "          element.appendChild(docLink);\n",
              "        }\n",
              "      </script>\n",
              "    </div>\n",
              "  </div>\n",
              "  "
            ]
          },
          "metadata": {},
          "execution_count": 7
        }
      ]
    },
    {
      "cell_type": "markdown",
      "source": [
        "## 2.2 Normalizando a base"
      ],
      "metadata": {
        "id": "OXka1RnrcvDc"
      }
    },
    {
      "cell_type": "code",
      "source": [
        "scaler = MinMaxScaler()\n",
        "x_treino_scaler = scaler.fit_transform(x_treino)\n",
        "x_teste_scaler = scaler.transform(x_teste)\n",
        "x_teste_scaler"
      ],
      "metadata": {
        "colab": {
          "base_uri": "https://localhost:8080/"
        },
        "id": "C_uOMMC9ck-6",
        "outputId": "8039c786-97c8-4f6b-b251-54ab641fbf7d"
      },
      "execution_count": 8,
      "outputs": [
        {
          "output_type": "execute_result",
          "data": {
            "text/plain": [
              "array([[-0.01679187,  0.86218388,  0.3506738 ,  0.2852459 ,  0.84947518],\n",
              "       [ 0.44387251,  0.43683838,  0.25076658,  0.13770492,  0.63304309],\n",
              "       [ 0.49784713,  0.4176899 ,  0.35812842,  0.34754098,  1.02902335],\n",
              "       [ 0.27246464,  1.29434972,  1.02837531,  0.0557377 ,  0.64938549],\n",
              "       [ 0.63492912,  0.96122339,  0.2885317 ,  0.06885246, -0.07313263],\n",
              "       [ 0.51809296,  0.47820059,  0.43839182,  0.38360656,  0.80986897],\n",
              "       [ 0.17453573,  0.66213831,  0.29163429,  0.23606557,  0.82333688],\n",
              "       [ 0.9196206 ,  0.37681693,  0.3947478 ,  0.31803279,  0.87476868],\n",
              "       [-0.01691787,  0.67787888,  0.23393213,  1.04590164,  0.60715022]])"
            ]
          },
          "metadata": {},
          "execution_count": 8
        }
      ]
    },
    {
      "cell_type": "markdown",
      "source": [
        "## 2.3 Modelo de Regressão Logistica"
      ],
      "metadata": {
        "id": "PgD1Onahc7kD"
      }
    },
    {
      "cell_type": "code",
      "source": [
        "LR = LogisticRegression(random_state=0)\n",
        "LR.fit(x_treino, y_treino)\n",
        "LR.score(x_teste,y_teste) * 100"
      ],
      "metadata": {
        "colab": {
          "base_uri": "https://localhost:8080/"
        },
        "id": "3sPzhBTjc27D",
        "outputId": "ceba050a-2a5b-4e5c-bcf4-603e5d3ad293"
      },
      "execution_count": 10,
      "outputs": [
        {
          "output_type": "execute_result",
          "data": {
            "text/plain": [
              "100.0"
            ]
          },
          "metadata": {},
          "execution_count": 10
        }
      ]
    },
    {
      "cell_type": "code",
      "source": [
        "LR_scaler = LogisticRegression(random_state=0)\n",
        "LR_scaler.fit(x_treino_scaler, y_treino)\n",
        "LR_scaler.score(x_teste_scaler, y_teste) *100"
      ],
      "metadata": {
        "colab": {
          "base_uri": "https://localhost:8080/"
        },
        "id": "Ux5FqMj5dBDD",
        "outputId": "fb12ddf3-96bb-446d-dc01-1ce0ff4bc01e"
      },
      "execution_count": 11,
      "outputs": [
        {
          "output_type": "execute_result",
          "data": {
            "text/plain": [
              "55.55555555555556"
            ]
          },
          "metadata": {},
          "execution_count": 11
        }
      ]
    },
    {
      "cell_type": "markdown",
      "source": [
        "## 2.4 Modelo Árvore de Regressão"
      ],
      "metadata": {
        "id": "cUQg7S54dcKb"
      }
    },
    {
      "cell_type": "code",
      "source": [
        "DT = DecisionTreeClassifier(random_state=0).fit(x_treino, y_treino)\n",
        "DT.score(x_teste, y_teste) * 100"
      ],
      "metadata": {
        "colab": {
          "base_uri": "https://localhost:8080/"
        },
        "id": "9cgoiFv8dR8a",
        "outputId": "dacc5001-0b6b-4610-fb71-6e6948cd71d7"
      },
      "execution_count": 12,
      "outputs": [
        {
          "output_type": "execute_result",
          "data": {
            "text/plain": [
              "100.0"
            ]
          },
          "metadata": {},
          "execution_count": 12
        }
      ]
    },
    {
      "cell_type": "code",
      "source": [
        "DT_scaler = DecisionTreeClassifier(random_state=0).fit(x_treino_scaler, y_treino)\n",
        "DT_scaler.score(x_teste_scaler, y_teste) * 100"
      ],
      "metadata": {
        "colab": {
          "base_uri": "https://localhost:8080/"
        },
        "id": "JKm2hhvbdjdZ",
        "outputId": "6867006d-1b31-4e22-96b4-b47990e3917a"
      },
      "execution_count": 13,
      "outputs": [
        {
          "output_type": "execute_result",
          "data": {
            "text/plain": [
              "100.0"
            ]
          },
          "metadata": {},
          "execution_count": 13
        }
      ]
    },
    {
      "cell_type": "markdown",
      "source": [
        "## 2.5 Avaliando as variáveis mais importantes para o Modelo (Feature Importance)"
      ],
      "metadata": {
        "id": "QSXNurCeeEL9"
      }
    },
    {
      "cell_type": "code",
      "source": [
        "for i in zip(x.columns, DT.feature_importances_):\n",
        "  print(i)"
      ],
      "metadata": {
        "colab": {
          "base_uri": "https://localhost:8080/"
        },
        "id": "XiPyC4L2eHaI",
        "outputId": "f15e9ca6-eebd-4107-f076-13e7730654ce"
      },
      "execution_count": 14,
      "outputs": [
        {
          "output_type": "stream",
          "name": "stdout",
          "text": [
            "('idade', 0.0)\n",
            "('altura_jogador', 0.0)\n",
            "('peso_jogador', 0.0)\n",
            "('qtd_jogadores', 1.0)\n",
            "('pct_estrangeiro', 0.0)\n"
          ]
        }
      ]
    }
  ]
}