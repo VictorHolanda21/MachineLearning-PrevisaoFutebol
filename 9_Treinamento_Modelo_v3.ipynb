{
  "nbformat": 4,
  "nbformat_minor": 0,
  "metadata": {
    "colab": {
      "name": "9_Treinamento_Modelo_v3.ipynb",
      "provenance": [],
      "mount_file_id": "1v_b37qiNa8RAwoXDSPCOxULEp57baro7",
      "authorship_tag": "ABX9TyO0qOQ8ZDHtyCq/WKfYXMbL",
      "include_colab_link": true
    },
    "kernelspec": {
      "name": "python3",
      "display_name": "Python 3"
    },
    "language_info": {
      "name": "python"
    }
  },
  "cells": [
    {
      "cell_type": "markdown",
      "metadata": {
        "id": "view-in-github",
        "colab_type": "text"
      },
      "source": [
        "<a href=\"https://colab.research.google.com/github/VictorHolanda21/MachineLearning-PrevisaoFutebol/blob/main/9_Treinamento_Modelo_v3.ipynb\" target=\"_parent\"><img src=\"https://colab.research.google.com/assets/colab-badge.svg\" alt=\"Open In Colab\"/></a>"
      ]
    },
    {
      "cell_type": "markdown",
      "source": [
        "# 1. Importando Bibliotecas"
      ],
      "metadata": {
        "id": "yQnWmsYBbAsG"
      }
    },
    {
      "cell_type": "code",
      "execution_count": 54,
      "metadata": {
        "id": "ldyOAhhFam9M"
      },
      "outputs": [],
      "source": [
        "import pandas as pd\n",
        "import numpy as np\n",
        "import matplotlib.pyplot as plt\n",
        "import seaborn as sns\n",
        "\n",
        "from sklearn.tree import DecisionTreeClassifier\n",
        "from sklearn.linear_model import LogisticRegression\n",
        "\n",
        "from sklearn.model_selection import train_test_split\n",
        "from sklearn.preprocessing import MinMaxScaler\n",
        "\n",
        "import warnings\n",
        "warnings.warn(\"deprecated\", DeprecationWarning)\n",
        "warnings.filterwarnings(\"ignore\")"
      ]
    },
    {
      "cell_type": "code",
      "source": [
        "url_loc_files = '/content/drive/MyDrive/Colab Notebooks/Previsao No Futebol/'\n",
        "\n",
        "media_classificacao_time = pd.read_csv(url_loc_files + 'media_classificacao_time_3.csv')\n",
        "\n",
        "media_classificacao_time.head()"
      ],
      "metadata": {
        "colab": {
          "base_uri": "https://localhost:8080/",
          "height": 206
        },
        "id": "OTJotPR1bCp4",
        "outputId": "53cd1900-8de8-4f32-9313-87265f34c1c0"
      },
      "execution_count": 55,
      "outputs": [
        {
          "output_type": "execute_result",
          "data": {
            "text/plain": [
              "    ano  classificacao_time_2      idade  altura_jogador  peso_jogador  \\\n",
              "0  2003                     0  40.976190        1.818743     76.018072   \n",
              "1  2003                     2  42.301370        1.812329     76.712329   \n",
              "2  2004                     2  41.602410        1.820952     76.904762   \n",
              "3  2005                     0  39.031250        1.827250     76.925000   \n",
              "4  2005                     2  39.295775        1.824366     77.070423   \n",
              "\n",
              "   qtd_jogadores  media_jogadores  pct_estrangeiro  \n",
              "0            168        33.600000        63.095238  \n",
              "1             73        24.333333        54.810496  \n",
              "2             84        28.000000        47.945205  \n",
              "3            160        32.000000        65.662651  \n",
              "4             71        23.666667        56.176471  "
            ],
            "text/html": [
              "\n",
              "  <div id=\"df-9e5a29a9-466b-46b1-b9f8-23c125cc6a8c\">\n",
              "    <div class=\"colab-df-container\">\n",
              "      <div>\n",
              "<style scoped>\n",
              "    .dataframe tbody tr th:only-of-type {\n",
              "        vertical-align: middle;\n",
              "    }\n",
              "\n",
              "    .dataframe tbody tr th {\n",
              "        vertical-align: top;\n",
              "    }\n",
              "\n",
              "    .dataframe thead th {\n",
              "        text-align: right;\n",
              "    }\n",
              "</style>\n",
              "<table border=\"1\" class=\"dataframe\">\n",
              "  <thead>\n",
              "    <tr style=\"text-align: right;\">\n",
              "      <th></th>\n",
              "      <th>ano</th>\n",
              "      <th>classificacao_time_2</th>\n",
              "      <th>idade</th>\n",
              "      <th>altura_jogador</th>\n",
              "      <th>peso_jogador</th>\n",
              "      <th>qtd_jogadores</th>\n",
              "      <th>media_jogadores</th>\n",
              "      <th>pct_estrangeiro</th>\n",
              "    </tr>\n",
              "  </thead>\n",
              "  <tbody>\n",
              "    <tr>\n",
              "      <th>0</th>\n",
              "      <td>2003</td>\n",
              "      <td>0</td>\n",
              "      <td>40.976190</td>\n",
              "      <td>1.818743</td>\n",
              "      <td>76.018072</td>\n",
              "      <td>168</td>\n",
              "      <td>33.600000</td>\n",
              "      <td>63.095238</td>\n",
              "    </tr>\n",
              "    <tr>\n",
              "      <th>1</th>\n",
              "      <td>2003</td>\n",
              "      <td>2</td>\n",
              "      <td>42.301370</td>\n",
              "      <td>1.812329</td>\n",
              "      <td>76.712329</td>\n",
              "      <td>73</td>\n",
              "      <td>24.333333</td>\n",
              "      <td>54.810496</td>\n",
              "    </tr>\n",
              "    <tr>\n",
              "      <th>2</th>\n",
              "      <td>2004</td>\n",
              "      <td>2</td>\n",
              "      <td>41.602410</td>\n",
              "      <td>1.820952</td>\n",
              "      <td>76.904762</td>\n",
              "      <td>84</td>\n",
              "      <td>28.000000</td>\n",
              "      <td>47.945205</td>\n",
              "    </tr>\n",
              "    <tr>\n",
              "      <th>3</th>\n",
              "      <td>2005</td>\n",
              "      <td>0</td>\n",
              "      <td>39.031250</td>\n",
              "      <td>1.827250</td>\n",
              "      <td>76.925000</td>\n",
              "      <td>160</td>\n",
              "      <td>32.000000</td>\n",
              "      <td>65.662651</td>\n",
              "    </tr>\n",
              "    <tr>\n",
              "      <th>4</th>\n",
              "      <td>2005</td>\n",
              "      <td>2</td>\n",
              "      <td>39.295775</td>\n",
              "      <td>1.824366</td>\n",
              "      <td>77.070423</td>\n",
              "      <td>71</td>\n",
              "      <td>23.666667</td>\n",
              "      <td>56.176471</td>\n",
              "    </tr>\n",
              "  </tbody>\n",
              "</table>\n",
              "</div>\n",
              "      <button class=\"colab-df-convert\" onclick=\"convertToInteractive('df-9e5a29a9-466b-46b1-b9f8-23c125cc6a8c')\"\n",
              "              title=\"Convert this dataframe to an interactive table.\"\n",
              "              style=\"display:none;\">\n",
              "        \n",
              "  <svg xmlns=\"http://www.w3.org/2000/svg\" height=\"24px\"viewBox=\"0 0 24 24\"\n",
              "       width=\"24px\">\n",
              "    <path d=\"M0 0h24v24H0V0z\" fill=\"none\"/>\n",
              "    <path d=\"M18.56 5.44l.94 2.06.94-2.06 2.06-.94-2.06-.94-.94-2.06-.94 2.06-2.06.94zm-11 1L8.5 8.5l.94-2.06 2.06-.94-2.06-.94L8.5 2.5l-.94 2.06-2.06.94zm10 10l.94 2.06.94-2.06 2.06-.94-2.06-.94-.94-2.06-.94 2.06-2.06.94z\"/><path d=\"M17.41 7.96l-1.37-1.37c-.4-.4-.92-.59-1.43-.59-.52 0-1.04.2-1.43.59L10.3 9.45l-7.72 7.72c-.78.78-.78 2.05 0 2.83L4 21.41c.39.39.9.59 1.41.59.51 0 1.02-.2 1.41-.59l7.78-7.78 2.81-2.81c.8-.78.8-2.07 0-2.86zM5.41 20L4 18.59l7.72-7.72 1.47 1.35L5.41 20z\"/>\n",
              "  </svg>\n",
              "      </button>\n",
              "      \n",
              "  <style>\n",
              "    .colab-df-container {\n",
              "      display:flex;\n",
              "      flex-wrap:wrap;\n",
              "      gap: 12px;\n",
              "    }\n",
              "\n",
              "    .colab-df-convert {\n",
              "      background-color: #E8F0FE;\n",
              "      border: none;\n",
              "      border-radius: 50%;\n",
              "      cursor: pointer;\n",
              "      display: none;\n",
              "      fill: #1967D2;\n",
              "      height: 32px;\n",
              "      padding: 0 0 0 0;\n",
              "      width: 32px;\n",
              "    }\n",
              "\n",
              "    .colab-df-convert:hover {\n",
              "      background-color: #E2EBFA;\n",
              "      box-shadow: 0px 1px 2px rgba(60, 64, 67, 0.3), 0px 1px 3px 1px rgba(60, 64, 67, 0.15);\n",
              "      fill: #174EA6;\n",
              "    }\n",
              "\n",
              "    [theme=dark] .colab-df-convert {\n",
              "      background-color: #3B4455;\n",
              "      fill: #D2E3FC;\n",
              "    }\n",
              "\n",
              "    [theme=dark] .colab-df-convert:hover {\n",
              "      background-color: #434B5C;\n",
              "      box-shadow: 0px 1px 3px 1px rgba(0, 0, 0, 0.15);\n",
              "      filter: drop-shadow(0px 1px 2px rgba(0, 0, 0, 0.3));\n",
              "      fill: #FFFFFF;\n",
              "    }\n",
              "  </style>\n",
              "\n",
              "      <script>\n",
              "        const buttonEl =\n",
              "          document.querySelector('#df-9e5a29a9-466b-46b1-b9f8-23c125cc6a8c button.colab-df-convert');\n",
              "        buttonEl.style.display =\n",
              "          google.colab.kernel.accessAllowed ? 'block' : 'none';\n",
              "\n",
              "        async function convertToInteractive(key) {\n",
              "          const element = document.querySelector('#df-9e5a29a9-466b-46b1-b9f8-23c125cc6a8c');\n",
              "          const dataTable =\n",
              "            await google.colab.kernel.invokeFunction('convertToInteractive',\n",
              "                                                     [key], {});\n",
              "          if (!dataTable) return;\n",
              "\n",
              "          const docLinkHtml = 'Like what you see? Visit the ' +\n",
              "            '<a target=\"_blank\" href=https://colab.research.google.com/notebooks/data_table.ipynb>data table notebook</a>'\n",
              "            + ' to learn more about interactive tables.';\n",
              "          element.innerHTML = '';\n",
              "          dataTable['output_type'] = 'display_data';\n",
              "          await google.colab.output.renderOutput(dataTable, element);\n",
              "          const docLink = document.createElement('div');\n",
              "          docLink.innerHTML = docLinkHtml;\n",
              "          element.appendChild(docLink);\n",
              "        }\n",
              "      </script>\n",
              "    </div>\n",
              "  </div>\n",
              "  "
            ]
          },
          "metadata": {},
          "execution_count": 55
        }
      ]
    },
    {
      "cell_type": "markdown",
      "source": [
        "# 2. Modelagem"
      ],
      "metadata": {
        "id": "gW9eSlvLb26s"
      }
    },
    {
      "cell_type": "markdown",
      "source": [
        "## 2.1 Dividindo base de treinamento e teste"
      ],
      "metadata": {
        "id": "XIIrkLvcb5bc"
      }
    },
    {
      "cell_type": "code",
      "source": [
        "x = media_classificacao_time.drop(columns=['ano', 'classificacao_time_2','qtd_jogadores'])\n",
        "y = media_classificacao_time.classificacao_time_2\n",
        "\n",
        "x_treino, x_teste, y_treino, y_teste = train_test_split(x,y, test_size=0.3,random_state=42)"
      ],
      "metadata": {
        "id": "3StxE_Q4b2c6"
      },
      "execution_count": 56,
      "outputs": []
    },
    {
      "cell_type": "code",
      "source": [
        "print(\"Qtde linhas (x): \", len(x_treino))\n",
        "x_treino.head()"
      ],
      "metadata": {
        "colab": {
          "base_uri": "https://localhost:8080/",
          "height": 224
        },
        "id": "8NFRYlXGbNZz",
        "outputId": "ee7aeacc-cbd8-4dd5-8a63-3c033f29fe6a"
      },
      "execution_count": 57,
      "outputs": [
        {
          "output_type": "stream",
          "name": "stdout",
          "text": [
            "Qtde linhas (x):  20\n"
          ]
        },
        {
          "output_type": "execute_result",
          "data": {
            "text/plain": [
              "        idade  altura_jogador  peso_jogador  media_jogadores  pct_estrangeiro\n",
              "13  34.510870        1.832717     77.456522        30.666667        60.638298\n",
              "15  32.707602        1.827778     76.198830        34.200000        65.402844\n",
              "11  35.877049        1.822479     75.851240        42.333333        45.161290\n",
              "17  31.957983        1.824774     76.178470        29.750000        54.347826\n",
              "1   42.301370        1.812329     76.712329        24.333333        54.810496"
            ],
            "text/html": [
              "\n",
              "  <div id=\"df-a9070846-5077-4e7b-bf7a-aa719e3074ce\">\n",
              "    <div class=\"colab-df-container\">\n",
              "      <div>\n",
              "<style scoped>\n",
              "    .dataframe tbody tr th:only-of-type {\n",
              "        vertical-align: middle;\n",
              "    }\n",
              "\n",
              "    .dataframe tbody tr th {\n",
              "        vertical-align: top;\n",
              "    }\n",
              "\n",
              "    .dataframe thead th {\n",
              "        text-align: right;\n",
              "    }\n",
              "</style>\n",
              "<table border=\"1\" class=\"dataframe\">\n",
              "  <thead>\n",
              "    <tr style=\"text-align: right;\">\n",
              "      <th></th>\n",
              "      <th>idade</th>\n",
              "      <th>altura_jogador</th>\n",
              "      <th>peso_jogador</th>\n",
              "      <th>media_jogadores</th>\n",
              "      <th>pct_estrangeiro</th>\n",
              "    </tr>\n",
              "  </thead>\n",
              "  <tbody>\n",
              "    <tr>\n",
              "      <th>13</th>\n",
              "      <td>34.510870</td>\n",
              "      <td>1.832717</td>\n",
              "      <td>77.456522</td>\n",
              "      <td>30.666667</td>\n",
              "      <td>60.638298</td>\n",
              "    </tr>\n",
              "    <tr>\n",
              "      <th>15</th>\n",
              "      <td>32.707602</td>\n",
              "      <td>1.827778</td>\n",
              "      <td>76.198830</td>\n",
              "      <td>34.200000</td>\n",
              "      <td>65.402844</td>\n",
              "    </tr>\n",
              "    <tr>\n",
              "      <th>11</th>\n",
              "      <td>35.877049</td>\n",
              "      <td>1.822479</td>\n",
              "      <td>75.851240</td>\n",
              "      <td>42.333333</td>\n",
              "      <td>45.161290</td>\n",
              "    </tr>\n",
              "    <tr>\n",
              "      <th>17</th>\n",
              "      <td>31.957983</td>\n",
              "      <td>1.824774</td>\n",
              "      <td>76.178470</td>\n",
              "      <td>29.750000</td>\n",
              "      <td>54.347826</td>\n",
              "    </tr>\n",
              "    <tr>\n",
              "      <th>1</th>\n",
              "      <td>42.301370</td>\n",
              "      <td>1.812329</td>\n",
              "      <td>76.712329</td>\n",
              "      <td>24.333333</td>\n",
              "      <td>54.810496</td>\n",
              "    </tr>\n",
              "  </tbody>\n",
              "</table>\n",
              "</div>\n",
              "      <button class=\"colab-df-convert\" onclick=\"convertToInteractive('df-a9070846-5077-4e7b-bf7a-aa719e3074ce')\"\n",
              "              title=\"Convert this dataframe to an interactive table.\"\n",
              "              style=\"display:none;\">\n",
              "        \n",
              "  <svg xmlns=\"http://www.w3.org/2000/svg\" height=\"24px\"viewBox=\"0 0 24 24\"\n",
              "       width=\"24px\">\n",
              "    <path d=\"M0 0h24v24H0V0z\" fill=\"none\"/>\n",
              "    <path d=\"M18.56 5.44l.94 2.06.94-2.06 2.06-.94-2.06-.94-.94-2.06-.94 2.06-2.06.94zm-11 1L8.5 8.5l.94-2.06 2.06-.94-2.06-.94L8.5 2.5l-.94 2.06-2.06.94zm10 10l.94 2.06.94-2.06 2.06-.94-2.06-.94-.94-2.06-.94 2.06-2.06.94z\"/><path d=\"M17.41 7.96l-1.37-1.37c-.4-.4-.92-.59-1.43-.59-.52 0-1.04.2-1.43.59L10.3 9.45l-7.72 7.72c-.78.78-.78 2.05 0 2.83L4 21.41c.39.39.9.59 1.41.59.51 0 1.02-.2 1.41-.59l7.78-7.78 2.81-2.81c.8-.78.8-2.07 0-2.86zM5.41 20L4 18.59l7.72-7.72 1.47 1.35L5.41 20z\"/>\n",
              "  </svg>\n",
              "      </button>\n",
              "      \n",
              "  <style>\n",
              "    .colab-df-container {\n",
              "      display:flex;\n",
              "      flex-wrap:wrap;\n",
              "      gap: 12px;\n",
              "    }\n",
              "\n",
              "    .colab-df-convert {\n",
              "      background-color: #E8F0FE;\n",
              "      border: none;\n",
              "      border-radius: 50%;\n",
              "      cursor: pointer;\n",
              "      display: none;\n",
              "      fill: #1967D2;\n",
              "      height: 32px;\n",
              "      padding: 0 0 0 0;\n",
              "      width: 32px;\n",
              "    }\n",
              "\n",
              "    .colab-df-convert:hover {\n",
              "      background-color: #E2EBFA;\n",
              "      box-shadow: 0px 1px 2px rgba(60, 64, 67, 0.3), 0px 1px 3px 1px rgba(60, 64, 67, 0.15);\n",
              "      fill: #174EA6;\n",
              "    }\n",
              "\n",
              "    [theme=dark] .colab-df-convert {\n",
              "      background-color: #3B4455;\n",
              "      fill: #D2E3FC;\n",
              "    }\n",
              "\n",
              "    [theme=dark] .colab-df-convert:hover {\n",
              "      background-color: #434B5C;\n",
              "      box-shadow: 0px 1px 3px 1px rgba(0, 0, 0, 0.15);\n",
              "      filter: drop-shadow(0px 1px 2px rgba(0, 0, 0, 0.3));\n",
              "      fill: #FFFFFF;\n",
              "    }\n",
              "  </style>\n",
              "\n",
              "      <script>\n",
              "        const buttonEl =\n",
              "          document.querySelector('#df-a9070846-5077-4e7b-bf7a-aa719e3074ce button.colab-df-convert');\n",
              "        buttonEl.style.display =\n",
              "          google.colab.kernel.accessAllowed ? 'block' : 'none';\n",
              "\n",
              "        async function convertToInteractive(key) {\n",
              "          const element = document.querySelector('#df-a9070846-5077-4e7b-bf7a-aa719e3074ce');\n",
              "          const dataTable =\n",
              "            await google.colab.kernel.invokeFunction('convertToInteractive',\n",
              "                                                     [key], {});\n",
              "          if (!dataTable) return;\n",
              "\n",
              "          const docLinkHtml = 'Like what you see? Visit the ' +\n",
              "            '<a target=\"_blank\" href=https://colab.research.google.com/notebooks/data_table.ipynb>data table notebook</a>'\n",
              "            + ' to learn more about interactive tables.';\n",
              "          element.innerHTML = '';\n",
              "          dataTable['output_type'] = 'display_data';\n",
              "          await google.colab.output.renderOutput(dataTable, element);\n",
              "          const docLink = document.createElement('div');\n",
              "          docLink.innerHTML = docLinkHtml;\n",
              "          element.appendChild(docLink);\n",
              "        }\n",
              "      </script>\n",
              "    </div>\n",
              "  </div>\n",
              "  "
            ]
          },
          "metadata": {},
          "execution_count": 57
        }
      ]
    },
    {
      "cell_type": "markdown",
      "source": [
        "## 2.2 Normalizando a base"
      ],
      "metadata": {
        "id": "OXka1RnrcvDc"
      }
    },
    {
      "cell_type": "code",
      "source": [
        "scaler = MinMaxScaler()\n",
        "x_treino_scaler = scaler.fit_transform(x_treino)\n",
        "x_teste_scaler = scaler.transform(x_teste)\n",
        "x_teste_scaler"
      ],
      "metadata": {
        "colab": {
          "base_uri": "https://localhost:8080/"
        },
        "id": "C_uOMMC9ck-6",
        "outputId": "e4c00464-6af8-40c6-9a49-1495d5d0d519"
      },
      "execution_count": 58,
      "outputs": [
        {
          "output_type": "execute_result",
          "data": {
            "text/plain": [
              "array([[-0.01679187,  0.86218388,  0.3506738 ,  0.425     ,  0.84947518],\n",
              "       [ 0.44387251,  0.43683838,  0.25076658,  0.75      ,  0.63304309],\n",
              "       [ 0.49784713,  0.4176899 ,  0.35812842,  0.62857143,  1.02902335],\n",
              "       [ 0.27246464,  1.29434972,  1.02837531,  0.30357143,  0.64938549],\n",
              "       [ 0.63492912,  0.96122339,  0.2885317 ,  0.375     , -0.07313263],\n",
              "       [ 0.51809296,  0.47820059,  0.43839182,  0.74642857,  0.80986897],\n",
              "       [ 0.17453573,  0.66213831,  0.29163429,  0.26428571,  0.82333688],\n",
              "       [ 0.9196206 ,  0.37681693,  0.3947478 ,  0.53214286,  0.87476868],\n",
              "       [-0.01691787,  0.67787888,  0.23393213,  0.47321429,  0.60715022]])"
            ]
          },
          "metadata": {},
          "execution_count": 58
        }
      ]
    },
    {
      "cell_type": "markdown",
      "source": [
        "## 2.3 Modelo de Regressão Logistica"
      ],
      "metadata": {
        "id": "PgD1Onahc7kD"
      }
    },
    {
      "cell_type": "code",
      "source": [
        "LR = LogisticRegression(random_state=0)\n",
        "LR.fit(x_treino, y_treino)\n",
        "LR.score(x_teste,y_teste) * 100"
      ],
      "metadata": {
        "colab": {
          "base_uri": "https://localhost:8080/"
        },
        "id": "3sPzhBTjc27D",
        "outputId": "cee54bb8-ea89-4600-ade6-686849b153ec"
      },
      "execution_count": 59,
      "outputs": [
        {
          "output_type": "execute_result",
          "data": {
            "text/plain": [
              "77.77777777777779"
            ]
          },
          "metadata": {},
          "execution_count": 59
        }
      ]
    },
    {
      "cell_type": "code",
      "source": [
        "LR_scaler = LogisticRegression(random_state=0)\n",
        "LR_scaler.fit(x_treino_scaler, y_treino)\n",
        "LR_scaler.score(x_teste_scaler, y_teste) *100"
      ],
      "metadata": {
        "colab": {
          "base_uri": "https://localhost:8080/"
        },
        "id": "Ux5FqMj5dBDD",
        "outputId": "42846063-be36-437d-e83c-acbefaca8d49"
      },
      "execution_count": 60,
      "outputs": [
        {
          "output_type": "execute_result",
          "data": {
            "text/plain": [
              "44.44444444444444"
            ]
          },
          "metadata": {},
          "execution_count": 60
        }
      ]
    },
    {
      "cell_type": "markdown",
      "source": [
        "## 2.4 Modelo Árvore de Regressão"
      ],
      "metadata": {
        "id": "cUQg7S54dcKb"
      }
    },
    {
      "cell_type": "code",
      "source": [
        "DT = DecisionTreeClassifier(random_state=0).fit(x_treino, y_treino)\n",
        "DT.score(x_teste, y_teste) * 100"
      ],
      "metadata": {
        "colab": {
          "base_uri": "https://localhost:8080/"
        },
        "id": "9cgoiFv8dR8a",
        "outputId": "bbf9b58f-3b23-4f04-b7b2-9bceb4507467"
      },
      "execution_count": 61,
      "outputs": [
        {
          "output_type": "execute_result",
          "data": {
            "text/plain": [
              "66.66666666666666"
            ]
          },
          "metadata": {},
          "execution_count": 61
        }
      ]
    },
    {
      "cell_type": "code",
      "source": [
        "DT_scaler = DecisionTreeClassifier(random_state=0).fit(x_treino_scaler, y_treino)\n",
        "DT_scaler.score(x_teste_scaler, y_teste) * 100"
      ],
      "metadata": {
        "colab": {
          "base_uri": "https://localhost:8080/"
        },
        "id": "JKm2hhvbdjdZ",
        "outputId": "647577a9-ee59-4108-d685-70dd3af1ddaa"
      },
      "execution_count": 62,
      "outputs": [
        {
          "output_type": "execute_result",
          "data": {
            "text/plain": [
              "66.66666666666666"
            ]
          },
          "metadata": {},
          "execution_count": 62
        }
      ]
    },
    {
      "cell_type": "markdown",
      "source": [
        "## 2.5 Avaliando as variáveis mais importantes para o Modelo (Feature Importance)"
      ],
      "metadata": {
        "id": "QSXNurCeeEL9"
      }
    },
    {
      "cell_type": "code",
      "source": [
        "for i in zip(x.columns, DT.feature_importances_):\n",
        "  print(i)"
      ],
      "metadata": {
        "colab": {
          "base_uri": "https://localhost:8080/"
        },
        "id": "XiPyC4L2eHaI",
        "outputId": "4e8d575e-6e0f-4684-ab71-247e11241e9c"
      },
      "execution_count": 63,
      "outputs": [
        {
          "output_type": "stream",
          "name": "stdout",
          "text": [
            "('idade', 0.14639639639639643)\n",
            "('altura_jogador', 0.0)\n",
            "('peso_jogador', 0.2837837837837839)\n",
            "('media_jogadores', 0.0)\n",
            "('pct_estrangeiro', 0.5698198198198197)\n"
          ]
        }
      ]
    },
    {
      "cell_type": "markdown",
      "source": [
        "Ele considerou idade, peso_jogador e pct_estrangeiro como as variaveis que mais impactam no resultado\n",
        "\n",
        "altura_jogador e media_jogadores não impactam no resultado, podendo, se for de escolha, excluir do modelo"
      ],
      "metadata": {
        "id": "W3MpCY10swwo"
      }
    },
    {
      "cell_type": "markdown",
      "source": [
        "# 3. Avaliação do Modelo"
      ],
      "metadata": {
        "id": "pfeL863bqckE"
      }
    },
    {
      "cell_type": "markdown",
      "source": [
        "## 3.1 Importando bibliotecas"
      ],
      "metadata": {
        "id": "zOdU01Gfum13"
      }
    },
    {
      "cell_type": "code",
      "source": [
        "from sklearn.metrics import classification_report, confusion_matrix, plot_confusion_matrix,f1_score,accuracy_score"
      ],
      "metadata": {
        "id": "jPXAkmoKjmJz"
      },
      "execution_count": 64,
      "outputs": []
    },
    {
      "cell_type": "markdown",
      "source": [
        "## 3.2 Realizando a predição(predict) com o algoritimo de reg. logistica"
      ],
      "metadata": {
        "id": "vp1dTe1rugWH"
      }
    },
    {
      "cell_type": "code",
      "source": [
        "predicao = LR.predict(x_teste)\n",
        "print(classification_report(y_pred=predicao,y_true=y_teste))"
      ],
      "metadata": {
        "colab": {
          "base_uri": "https://localhost:8080/"
        },
        "id": "auCHLg-ktlc0",
        "outputId": "addb0ba8-7d1f-496b-d589-b7a86d6b2154"
      },
      "execution_count": 65,
      "outputs": [
        {
          "output_type": "stream",
          "name": "stdout",
          "text": [
            "              precision    recall  f1-score   support\n",
            "\n",
            "           0       1.00      0.80      0.89         5\n",
            "           1       0.00      0.00      0.00         1\n",
            "           2       0.60      1.00      0.75         3\n",
            "\n",
            "    accuracy                           0.78         9\n",
            "   macro avg       0.53      0.60      0.55         9\n",
            "weighted avg       0.76      0.78      0.74         9\n",
            "\n"
          ]
        }
      ]
    },
    {
      "cell_type": "markdown",
      "source": [
        "## 3.3 Matriz de Confusão"
      ],
      "metadata": {
        "id": "FEpjgAFYvY06"
      }
    },
    {
      "cell_type": "code",
      "source": [
        "confusion_matrix(y_pred=predicao,y_true=y_teste)"
      ],
      "metadata": {
        "colab": {
          "base_uri": "https://localhost:8080/"
        },
        "id": "DFaNcwG3vYTC",
        "outputId": "163ac2e3-5b91-4fb3-d30c-98d6fa72035d"
      },
      "execution_count": 66,
      "outputs": [
        {
          "output_type": "execute_result",
          "data": {
            "text/plain": [
              "array([[4, 0, 1],\n",
              "       [0, 0, 1],\n",
              "       [0, 0, 3]])"
            ]
          },
          "metadata": {},
          "execution_count": 66
        }
      ]
    },
    {
      "cell_type": "markdown",
      "source": [
        "Para: <br>\n",
        "* **Classe 0:** 4/5 (80%)  => 4 acertos e 1 erro de 5 valores\n",
        "* **Classe 1:** 0/1 (0%)   => 0 acertos de 1 valor\n",
        "* **Classe 2:** 3/3 (100%) => 3 acertos de 3 valores"
      ],
      "metadata": {
        "id": "gXTBBtWdv4yf"
      }
    },
    {
      "cell_type": "code",
      "source": [
        "# Matriz de confusão usando plot\n",
        "\n",
        "plt.figure(figsize=(7,7))\n",
        "plot_confusion_matrix(LR,x_teste,y_teste)\n",
        "plt.show()"
      ],
      "metadata": {
        "colab": {
          "base_uri": "https://localhost:8080/",
          "height": 300
        },
        "id": "9qnIeLuPuL_p",
        "outputId": "ffb005a2-e6b4-42bb-82b0-dd1b1e207976"
      },
      "execution_count": 67,
      "outputs": [
        {
          "output_type": "display_data",
          "data": {
            "text/plain": [
              "<Figure size 504x504 with 0 Axes>"
            ]
          },
          "metadata": {}
        },
        {
          "output_type": "display_data",
          "data": {
            "text/plain": [
              "<Figure size 432x288 with 2 Axes>"
            ],
            "image/png": "[encoded data removed]"
          },
          "metadata": {
            "needs_background": "light"
          }
        }
      ]
    },
    {
      "cell_type": "code",
      "source": [
        "# Matriz de confusão personalizada\n",
        "\n",
        "## Calculando a matriz de confusão\n",
        "cn = confusion_matrix(y_true=y_teste,y_pred = predicao)\n",
        "\n",
        "## Calculando as % de acertos e erros para a matriz de confusão\n",
        "percent = (cn*100.0)/np.array(np.matrix(cn.sum(axis=1)).T)\n",
        "percent"
      ],
      "metadata": {
        "colab": {
          "base_uri": "https://localhost:8080/"
        },
        "id": "daHKjr_gxY54",
        "outputId": "939ccd20-92d9-486a-eeb7-a3adc869e247"
      },
      "execution_count": 68,
      "outputs": [
        {
          "output_type": "execute_result",
          "data": {
            "text/plain": [
              "array([[ 80.,   0.,  20.],\n",
              "       [  0.,   0., 100.],\n",
              "       [  0.,   0., 100.]])"
            ]
          },
          "metadata": {},
          "execution_count": 68
        }
      ]
    },
    {
      "cell_type": "code",
      "source": [
        "plt.figure(figsize=(8,5))\n",
        "\n",
        "d = pd.DataFrame(percent)\n",
        "\n",
        "sns.heatmap(d,vmax=100,vmin=0,annot=True,square=True, fmt=\".2f\",linewidths=.5)\n",
        "plt.xlabel('Previstos')\n",
        "plt.ylabel('Reais')\n",
        "\n",
        "plt.show()"
      ],
      "metadata": {
        "colab": {
          "base_uri": "https://localhost:8080/",
          "height": 338
        },
        "id": "UNYuKt4GxuQS",
        "outputId": "69112268-f890-4d0a-f3d2-f6cb357f3378"
      },
      "execution_count": 69,
      "outputs": [
        {
          "output_type": "display_data",
          "data": {
            "text/plain": [
              "<Figure size 576x360 with 2 Axes>"
            ],
            "image/png": "[encoded data removed]"
          },
          "metadata": {
            "needs_background": "light"
          }
        }
      ]
    },
    {
      "cell_type": "markdown",
      "source": [
        "## 3.4 Calculando o Acuracia e o F-score"
      ],
      "metadata": {
        "id": "JZTIUL0RzCaf"
      }
    },
    {
      "cell_type": "code",
      "source": [
        "## calculando o acuracia\n",
        "accuracy_p = accuracy_score(y_pred=predicao,y_true=y_teste)*100\n",
        "print(\"Acuracia: \", accuracy_p)\n",
        "\n",
        "## calculando o f-score\n",
        "f1_score_p = f1_score(y_pred=predicao,y_true=y_teste,average='macro')*100\n",
        "print(\"F1-Score: \", f1_score_p)"
      ],
      "metadata": {
        "colab": {
          "base_uri": "https://localhost:8080/"
        },
        "id": "HKrUE6XXxQgE",
        "outputId": "3202fc58-b014-42b5-ed48-274e2971ae62"
      },
      "execution_count": 73,
      "outputs": [
        {
          "output_type": "stream",
          "name": "stdout",
          "text": [
            "Acuracia:  77.77777777777779\n",
            "F1-Score:  54.629629629629626\n"
          ]
        }
      ]
    },
    {
      "cell_type": "markdown",
      "source": [
        "# 4 Salvando modelo em arquivo"
      ],
      "metadata": {
        "id": "yivssoJSzozm"
      }
    },
    {
      "cell_type": "code",
      "source": [
        "import joblib as jb\n",
        "\n",
        "modelo = LR\n",
        "description = 'Modelo de Regressão Logistica para classificar qual a posição possível do time com o atual elenco. \\\n",
        "Foram utilizadas as seguintes colunas: ' + \" ','\".join(x.columns)\n",
        "date='05/06/2022'\n",
        "version='0.1'\n",
        "name_model='classificacao_times_RL'\n",
        "metrics = 'acc: {:.3f}% e f1-score: {:.3f}%'.format(accuracy_p,f1_score_p)\n",
        "\n",
        "dic_save_model = dict({\n",
        "    'model':modelo,\n",
        "    'metadata':{\n",
        "        'description':description,\n",
        "        'author':'Victor Holanda',\n",
        "        'date':date,\n",
        "        'source_code_version': version,\n",
        "        'metrics':metrics\n",
        "    }\n",
        "})"
      ],
      "metadata": {
        "id": "vQFbVCB9zkrC"
      },
      "execution_count": 80,
      "outputs": []
    },
    {
      "cell_type": "code",
      "source": [
        "dic_save_model"
      ],
      "metadata": {
        "colab": {
          "base_uri": "https://localhost:8080/"
        },
        "id": "6w6fMKx81IKm",
        "outputId": "267ee192-35a3-4a34-b907-f97fe8946467"
      },
      "execution_count": 81,
      "outputs": [
        {
          "output_type": "execute_result",
          "data": {
            "text/plain": [
              "{'metadata': {'author': 'Victor Holanda',\n",
              "  'date': '05/06/2022',\n",
              "  'description': \"Modelo de Regressão Logistica para classificar qual a posição possível do time com o atual elenco. Foram utilizadas as seguintes colunas: idade ','altura_jogador ','peso_jogador ','media_jogadores ','pct_estrangeiro\",\n",
              "  'metrics': 'acc: 77.778% e f1score: 54.630%',\n",
              "  'source_code_version': '0.1'},\n",
              " 'model': LogisticRegression(random_state=0)}"
            ]
          },
          "metadata": {},
          "execution_count": 81
        }
      ]
    },
    {
      "cell_type": "code",
      "source": [
        "jb.dump(dic_save_model, url_loc_files+name_model+'.joblib')"
      ],
      "metadata": {
        "colab": {
          "base_uri": "https://localhost:8080/"
        },
        "id": "MSdDCY-v1nvs",
        "outputId": "39d9a030-c154-4212-9cb8-7c9ed25758f5"
      },
      "execution_count": 83,
      "outputs": [
        {
          "output_type": "execute_result",
          "data": {
            "text/plain": [
              "['/content/drive/MyDrive/Colab Notebooks/Previsao No Futebol/classificacao_times_RL.joblib']"
            ]
          },
          "metadata": {},
          "execution_count": 83
        }
      ]
    },
    {
      "cell_type": "code",
      "source": [
        ""
      ],
      "metadata": {
        "id": "sn_NSmWX27Bj"
      },
      "execution_count": null,
      "outputs": []
    }
  ]
}